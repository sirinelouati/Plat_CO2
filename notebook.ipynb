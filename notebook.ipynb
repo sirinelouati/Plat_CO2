{
 "cells": [
  {
   "cell_type": "markdown",
   "metadata": {},
   "source": [
    "# **Projet Python 2A**\n",
    "Jean-Baptiste Laval - Sirine Louati - Hadrien Lolivier\n",
    "\n",
    "*Ce projet est réalisé dans le cadre du cours de Python de Lino Galiana pour l'année 2021-2022.*\n",
    "\n",
    "<div align=\"center\">\n",
    "  <img src=\"https://www.planete-energies.com/sites/default/files/styles/media_full_width_940px/public/thumbnails/image/visuel_emissions_co2_small.jpg?itok=Rrh1f3Qy\"  width=\"600\"><br>\n",
    "</div>"
   ]
  },
  {
   "cell_type": "markdown",
   "metadata": {},
   "source": [
    "## Introduction\n",
    "\n",
    "**L'objectif** de notre programme est de calculer l'empreinte carbone de différentes recettes d'un plat choisi par l'utilisateur. Il se décompose en quatre grandes étapes :\n",
    "\n",
    "- Étape 1 : extraction de recettes en scrappant le site Marmiton\n",
    "- Étape 2 : identification des ingrédients et calcul de leur empreinte carbone grâce à la base Agribalyse\n",
    "- Étape 3 : agrégation des données\n",
    "- Étape 4 : affichage synthétisé des résultats"
   ]
  },
  {
   "cell_type": "markdown",
   "metadata": {},
   "source": [
    "## Structure du répertoire\n",
    "\n",
    "À la racine du répertoire, on trouve :\n",
    "- **`main.py`** : rassemble les principales fonctions du programme, notamment la fonction `main` qui permet d'exécuter le programme en entier.\n",
    "- **`requirements.txt`** : liste des modules Python requis\n",
    "- **`README.md`** : présentation détaillée du projet\n",
    "- **`notebook.ipynb`** : visite guidée des principales fonctions du répertoire et exemples\n",
    "- le dossier **`data`** dans lequel on trouve :\n",
    "    - **`agribalyse.csv`** : c'est une copie locale de la base Agribalyse utilisée en guise de cache (si le fichier existe, alors le programme n'a pas besoin de le télécharger de nouveau, sinon le programme le télécharge).\n",
    "    - **`interface.html`** : c'est le résultat final du programme (il est écrasé si le programme est exécuté avec de nouveaux arguments)\n",
    "- le dossier **`src`** : c'est le dossier qui contient le code"
   ]
  },
  {
   "cell_type": "markdown",
   "metadata": {},
   "source": [
    "## Installation\n",
    "\n",
    "Les modules Python utilisés par le programme sont précisés dans le fichier **`requirements.txt`**. Il faut donc les installer."
   ]
  },
  {
   "cell_type": "code",
   "execution_count": null,
   "metadata": {},
   "outputs": [],
   "source": [
    "!pip install -r requirements.txt"
   ]
  },
  {
   "cell_type": "markdown",
   "metadata": {},
   "source": [
    "Notre scrapper utilise le browser **`chromedriver`** qu'il est donc nécessaire d'installer également.\n",
    "\n",
    "Ci-dessous figurent deux manières d'installer **`chromedriver`**, soit sous Ubuntu (valable aussi sur Google Colaboratory), soit sous MacOS. En cas de difficulté, se référer au [site](https://chromedriver.chromium.org/) de **`chromedriver`**."
   ]
  },
  {
   "cell_type": "code",
   "execution_count": null,
   "metadata": {},
   "outputs": [],
   "source": [
    "### Installation de chromedriver sous Ubuntu\n",
    "\n",
    "!sudo apt install chromium-chromedriver\n",
    "!cp /usr/lib/chromium-browser/chromedriver /usr/bin\n",
    "!sudo chmod +x /usr/lib/chromium-browser/chromedriver\n",
    "!export PATH=$PATH:/usr/lib/chromium-browser/chromedriver"
   ]
  },
  {
   "cell_type": "code",
   "execution_count": null,
   "metadata": {},
   "outputs": [],
   "source": [
    "### Installation de chromedriver sous MacOS\n",
    "\n",
    "!npm install chromedriver"
   ]
  },
  {
   "cell_type": "markdown",
   "metadata": {},
   "source": [
    "## Fonctionnement global\n",
    "\n",
    "Pour utiliser le programme, il suffit d'importer la fonction `main` du fichier **`main.py`**, qui prend en argument le nom d'une recette de cuisine `recipe` et le nombre maximal de recettes à extraire `nmax`. Le résultat est le fichier **`interface.html`** généré dans le dossier **`data`**, qui peut être ouvert dans n'importe quel navigateur."
   ]
  },
  {
   "cell_type": "code",
   "execution_count": 2,
   "metadata": {},
   "outputs": [
    {
     "name": "stdout",
     "output_type": "stream",
     "text": [
      "\n",
      "Starting to scrap Marmiton... (please wait about 10 seconds)\n",
      "\n",
      "Cookies handled !\n",
      "\n",
      "Collecting results for 'gâteau au chocolat'...\n",
      "\n"
     ]
    },
    {
     "name": "stderr",
     "output_type": "stream",
     "text": [
      " 80%|███████████████████████████████████████████████████▏            | 8/10 [00:30<00:06,  3.00s/it]"
     ]
    },
    {
     "name": "stdout",
     "output_type": "stream",
     "text": [
      "[INFO] Cannot convert an ingredient to grams : (poire au sirop, {'quantity': '1 ', 'unit': 'boîte'}).                             \n",
      "\n"
     ]
    },
    {
     "name": "stderr",
     "output_type": "stream",
     "text": [
      " 90%|█████████████████████████████████████████████████████████▌      | 9/10 [00:33<00:03,  3.01s/it]"
     ]
    },
    {
     "name": "stdout",
     "output_type": "stream",
     "text": [
      "[INFO] Cannot convert an ingredient to grams : (1, {'quantity': '', 'unit': 'noix de coco rapée (quantité selon vos goûts)'}).                             \n",
      "\n"
     ]
    },
    {
     "name": "stderr",
     "output_type": "stream",
     "text": [
      "100%|███████████████████████████████████████████████████████████████| 10/10 [00:37<00:00,  3.72s/it]\n"
     ]
    },
    {
     "name": "stdout",
     "output_type": "stream",
     "text": [
      "\n",
      "The following ingredients were missing from the conversion list (conversions.py) :\n",
      "    ---> 'moules à muffin ou des caissettes en papier' was remplaced by 'pomm de terr'\n",
      "    ---> 'sucre glace' was remplaced by 'sucr'\n",
      "    ---> 'noix' was remplaced by 'poir'\n",
      "    ---> 'lait de coco' was remplaced by 'lait'\n",
      "\n",
      "These ingredients shall be added to the conversion list to be properly processed in the future.\n",
      "\n",
      "Marmiton's data is extracted !\n",
      "\n",
      "\n",
      "Processing ingredients...\n",
      "\n"
     ]
    },
    {
     "name": "stderr",
     "output_type": "stream",
     "text": [
      "100%|███████████████████████████████████████████████████████████████| 22/22 [00:26<00:00,  1.21s/it]\n"
     ]
    },
    {
     "name": "stdout",
     "output_type": "stream",
     "text": [
      "\n",
      "    ###################################################################\n",
      "    ### L'interface a été générée avec succès : data/interface.html ###\n",
      "    ###################################################################\n",
      "    \n"
     ]
    }
   ],
   "source": [
    "from main import main\n",
    "\n",
    "main(recipe = \"gâteau au chocolat\", nmax = 10)"
   ]
  },
  {
   "cell_type": "markdown",
   "metadata": {},
   "source": [
    "## Étape 1: extraction de recettes en scrappant le site Marmiton\n",
    "\n",
    "Le fonction qui réalise le scrapping est la fonction `marmiton_scrapper` du fichier **`scrapper_marmiton.py`** du dossier **`src`**.\n",
    "\n",
    "**Arguments**\n",
    "\n",
    "Elle prend en argument le nom d'une recette et un nombre maximal de recettes à extraire.\n",
    "\n",
    "\n",
    "**Sorties**\n",
    "\n",
    "Elle renvoie un dictionnaire à 3 niveaux de profondeur, référençant les différentes recettes trouvées, avec les informations correspondant à chacune d'entre elles (nom, url, nombre de commentaires, note, nombre de portions...), et pour chacune d'entre elles un dictionnaire d'ingrédients, associant à chaque ingrédient sa masse en grammes.\n",
    "\n",
    "\n",
    "**Difficultés rencontrées**\n",
    "\n",
    "L'une des premières difficultés survenues lors de l'implémentation du scrapper fut les blocages d'accès au site Marmiton. Nous avons donc eu recours à la fonction `sleep` pour limiter la fréquence des requêtes au serveur. Par ailleurs, nous avons dû surmonter certaines difficultés inattendues comme l'apparition potentielle de cookies (qui peut bloquer l'exécution du scrapper) ou encore les mises à jour du site qui peuvent rapidement rendre obsolètes notre scrapper (ce problème a été résolu en caractérisant plus intelligemment les champs html à extraire).\n",
    "\n",
    "\n",
    "**Limites du scrapper**\n",
    "\n",
    "Dans la partie scrapping, certaines simplifications ont été nécessaires pour mener à bien notre projet. Tout d'abord, nous avons fait le choix de nous restreindre aux recettes issues du site Marmiton, du fait de la variété de recettes associées à chaque plat. Cependant, il aurait pu être intéressant d'utiliser des recettes de différents site ; mais pour des raisons de simplicité nous nous sommes concentrés sur les recettes proposées par Marmiton.\n",
    "De plus, notre scrapper se devait de renvoyer un dictionnaire dans lequel chaque ingrédient était associé à la masse indiquée dans la recette. Il a donc fallu procéder à des conversions et à certaines simplifications pour rendre compte de la masse de certaines quantités qui ne sont pas naturellement exprimées en grammes, par exemple les ingrédients du type \"1 sachet de levure\", \"2 cuillers à café d'huile d'olive\" ou \"3 pommes Golden\". Nous avons donc utilisé d'une part une fonction de normalisation du texte (fonction `clean_string` dans le fichier **`utils.py`** du dossier **`src`**) et d'autre part une table de conversion dans le fichier **`conversions.py`** du dossier **`src`**.\n",
    "\n",
    "\n",
    "**Dummy output**\n",
    "\n",
    "Si le scrapper ne parvient pas à s'exécuter, une sortie de démonstration `dummy_output1` est disponible dans le fichier **`dummy.py`** du dossier **`src`**, grâce à laquelle il est possible d'exécuter malgré tout les autres fonctions du programme."
   ]
  },
  {
   "cell_type": "code",
   "execution_count": 14,
   "metadata": {},
   "outputs": [
    {
     "name": "stdout",
     "output_type": "stream",
     "text": [
      "\n",
      "Starting to scrap Marmiton... (please wait about 10 seconds)\n",
      "\n",
      "Cookies handled !\n",
      "\n",
      "Collecting results for 'gâteau au chocolat'...\n",
      "\n"
     ]
    },
    {
     "name": "stderr",
     "output_type": "stream",
     "text": [
      "100%|█████████████████████████████████████████████████████████████████| 5/5 [00:23<00:00,  4.79s/it]\n"
     ]
    },
    {
     "name": "stdout",
     "output_type": "stream",
     "text": [
      "\n",
      "The following ingredients were missing from the conversion list (conversions.py) :\n",
      "    ---> 'moules à muffin ou des caissettes en papier' was remplaced by 'pomm de terr'\n",
      "    ---> 'sucre glace' was remplaced by 'sucr'\n",
      "\n",
      "These ingredients shall be added to the conversion list to be properly processed in the future.\n",
      "\n",
      "Marmiton's data is extracted !\n",
      "\n",
      "{'Gâteau au chocolat (seulement pour les enfants!)': {'ingredients': {'beurre': 50.0,\n",
      "                                                                      'crème dessert au chocolat': 180.0,\n",
      "                                                                      'farine': 137.5,\n",
      "                                                                      'levure': 5.5,\n",
      "                                                                      'oeufs': 350.0,\n",
      "                                                                      'sucre': 397.5,\n",
      "                                                                      'sucre vanillé': 11.0},\n",
      "                                                      'mark': 4.7,\n",
      "                                                      'nb_comments': 339,\n",
      "                                                      'nb_people': 8,\n",
      "                                                      'url': 'https://www.marmiton.org/recettes/recette_gateau-au-chocolat-seulement-pour-les-enfants_41649.aspx'},\n",
      " 'Gâteau au chocolat des écoliers': {'ingredients': {'beurre doux': 125.0,\n",
      "                                                     'chocolat noir': 200.0,\n",
      "                                                     'farine': 100.0,\n",
      "                                                     'levure chimique': 11.0,\n",
      "                                                     'oeufs': 280.0,\n",
      "                                                     'sucre en poudre': 200.0},\n",
      "                                     'mark': 4.7,\n",
      "                                     'nb_comments': 1241,\n",
      "                                     'nb_people': 8,\n",
      "                                     'url': 'https://www.marmiton.org/recettes/recette_gateau-au-chocolat-des-ecoliers_20654.aspx'},\n",
      " 'Gâteau au chocolat fondant rapide': {'ingredients': {'beurre': 100.0,\n",
      "                                                       'chocolat pâtissier': 200.0,\n",
      "                                                       'farine': 50.0,\n",
      "                                                       'oeufs': 210.0,\n",
      "                                                       'sucre en poudre': 100.0},\n",
      "                                       'mark': 4.7,\n",
      "                                       'nb_comments': 1439,\n",
      "                                       'nb_people': 6,\n",
      "                                       'url': 'https://www.marmiton.org/recettes/recette_gateau-au-chocolat-fondant-rapide_166352.aspx'},\n",
      " 'Gâteau chocolat ultra rapide (micro-ondes)': {'ingredients': {'chocolat': 60.0,\n",
      "                                                                'crème fraîche': 37.800000000000004,\n",
      "                                                                'eau': 28.0,\n",
      "                                                                'sucre glace': 22.26},\n",
      "                                                'mark': 4.6,\n",
      "                                                'nb_comments': 684,\n",
      "                                                'nb_people': 8,\n",
      "                                                'url': 'https://www.marmiton.org/recettes/recette_gateau-chocolat-ultra-rapide-micro-ondes_20722.aspx'},\n",
      " 'Petits gâteaux tout chocolat': {'ingredients': {'beurre': 100.0,\n",
      "                                                  'crème dessert au chocolat': 200.0,\n",
      "                                                  'farine': 100.0,\n",
      "                                                  'moules à muffin ou des caissettes en papier': 160.0,\n",
      "                                                  'oeufs': 210.0,\n",
      "                                                  'sucre': 100.0},\n",
      "                                  'mark': 4.8,\n",
      "                                  'nb_comments': 337,\n",
      "                                  'nb_people': 9,\n",
      "                                  'url': 'https://www.marmiton.org/recettes/recette_petits-gateaux-tout-chocolat_36095.aspx'}}\n"
     ]
    }
   ],
   "source": [
    "from src.scrapper_marmiton import marmiton_scrapper\n",
    "from pprint import pprint  # only to improve the display of the ouputs\n",
    "\n",
    "output_scrapper = marmiton_scrapper(recipe_name=\"gâteau au chocolat\", n=5)\n",
    "\n",
    "pprint(output_scrapper)"
   ]
  },
  {
   "cell_type": "markdown",
   "metadata": {},
   "source": [
    "## Etape 2: identification des ingrédients et calcul de leur empreinte carbone grâce à la base Agribalyse\n",
    "\n",
    "À partir de la sortie Marmiton obtenue via le scrapper, comment peut-on obtenir l'empreinte carbone d'une recette ?\n",
    "\n",
    "C'est l'objectif de la deuxième étape ! Elle consiste à chercher les ingrédients de la base Agribalyse qui correspondent le mieux aux ingrédients de notre recette. Les fonctions associées à cette étape se trouvent dans le fichier **`food2emissions.py`** du dossier **`src`**.\n",
    "\n",
    "Il s'agit tout d'abord d'importer et de nettoyer la base de données d'Agribalyse."
   ]
  },
  {
   "cell_type": "code",
   "execution_count": 3,
   "metadata": {},
   "outputs": [
    {
     "data": {
      "text/html": [
       "<div>\n",
       "<style scoped>\n",
       "    .dataframe tbody tr th:only-of-type {\n",
       "        vertical-align: middle;\n",
       "    }\n",
       "\n",
       "    .dataframe tbody tr th {\n",
       "        vertical-align: top;\n",
       "    }\n",
       "\n",
       "    .dataframe thead th {\n",
       "        text-align: right;\n",
       "    }\n",
       "</style>\n",
       "<table border=\"1\" class=\"dataframe\">\n",
       "  <thead>\n",
       "    <tr style=\"text-align: right;\">\n",
       "      <th></th>\n",
       "      <th>name_prod</th>\n",
       "      <th>dqr</th>\n",
       "      <th>agriculture_co2</th>\n",
       "      <th>transformation_co2</th>\n",
       "      <th>packaging_co2</th>\n",
       "      <th>transport_co2</th>\n",
       "      <th>distribution_co2</th>\n",
       "      <th>consumption_co2</th>\n",
       "      <th>clean_name_prod</th>\n",
       "    </tr>\n",
       "  </thead>\n",
       "  <tbody>\n",
       "    <tr>\n",
       "      <th>0</th>\n",
       "      <td>Abondance</td>\n",
       "      <td>2.24</td>\n",
       "      <td>5.327912</td>\n",
       "      <td>0.369609</td>\n",
       "      <td>0.266627</td>\n",
       "      <td>0.265165</td>\n",
       "      <td>0.029051</td>\n",
       "      <td>0.004799</td>\n",
       "      <td>abond</td>\n",
       "    </tr>\n",
       "    <tr>\n",
       "      <th>1</th>\n",
       "      <td>Abricot au sirop léger, appertisé, égoutté</td>\n",
       "      <td>2.46</td>\n",
       "      <td>0.188315</td>\n",
       "      <td>0.166137</td>\n",
       "      <td>0.350156</td>\n",
       "      <td>0.225336</td>\n",
       "      <td>0.051200</td>\n",
       "      <td>0.239977</td>\n",
       "      <td>abricot au sirop leg appertis egoutt</td>\n",
       "    </tr>\n",
       "    <tr>\n",
       "      <th>2</th>\n",
       "      <td>Abricot au sirop léger, appertisé, non égoutté</td>\n",
       "      <td>2.46</td>\n",
       "      <td>0.117508</td>\n",
       "      <td>0.103670</td>\n",
       "      <td>0.218498</td>\n",
       "      <td>0.140610</td>\n",
       "      <td>0.031949</td>\n",
       "      <td>0.000000</td>\n",
       "      <td>abricot au sirop leg appertis non egoutt</td>\n",
       "    </tr>\n",
       "    <tr>\n",
       "      <th>3</th>\n",
       "      <td>Abricot au sirop, appertisé, égoutté</td>\n",
       "      <td>2.46</td>\n",
       "      <td>0.188315</td>\n",
       "      <td>0.166137</td>\n",
       "      <td>0.350156</td>\n",
       "      <td>0.225336</td>\n",
       "      <td>0.051200</td>\n",
       "      <td>0.239977</td>\n",
       "      <td>abricot au sirop appertis egoutt</td>\n",
       "    </tr>\n",
       "    <tr>\n",
       "      <th>4</th>\n",
       "      <td>Abricot au sirop, appertisé, non égoutté</td>\n",
       "      <td>2.44</td>\n",
       "      <td>0.117508</td>\n",
       "      <td>0.103670</td>\n",
       "      <td>0.218498</td>\n",
       "      <td>0.140610</td>\n",
       "      <td>0.031949</td>\n",
       "      <td>0.000000</td>\n",
       "      <td>abricot au sirop appertis non egoutt</td>\n",
       "    </tr>\n",
       "  </tbody>\n",
       "</table>\n",
       "</div>"
      ],
      "text/plain": [
       "                                        name_prod  ...                           clean_name_prod\n",
       "0                                       Abondance  ...                                     abond\n",
       "1      Abricot au sirop léger, appertisé, égoutté  ...      abricot au sirop leg appertis egoutt\n",
       "2  Abricot au sirop léger, appertisé, non égoutté  ...  abricot au sirop leg appertis non egoutt\n",
       "3            Abricot au sirop, appertisé, égoutté  ...          abricot au sirop appertis egoutt\n",
       "4        Abricot au sirop, appertisé, non égoutté  ...      abricot au sirop appertis non egoutt\n",
       "\n",
       "[5 rows x 9 columns]"
      ]
     },
     "execution_count": 3,
     "metadata": {},
     "output_type": "execute_result"
    }
   ],
   "source": [
    "from src.food2emissions import import_data_from_agribalyse\n",
    "\n",
    "products_data = import_data_from_agribalyse()\n",
    "\n",
    "products_data.head()"
   ]
  },
  {
   "cell_type": "markdown",
   "metadata": {},
   "source": [
    "Ensuite, il s'agit de trouver chaque ingrédient dans la base. Or, parfois la dénomination d'un ingrédient peut changer. Il faut donc trouver dans la base le produit le plus \"proche\" d'un ingrédient donné.\n",
    "\n",
    "Dans ce but, nous nous sommes interrogé sur la meilleure manière de mesurer la distance entre deux mots.\n",
    "Nous avons donc d'une part travaillé sur la normalisation des mots grâce à la fonction `clean_string` du fichier **`utils.py`** du dossier **`src`** qui met les mots en minuscules, retire les caractères qui ne sont pas des lettres ou des espaces, retire les espaces en début et fin de chaîne de caractères, retire les accents et utilise du _stemming_ pour éviter les différences d'accord en nombre (singulier et pluriel).\n",
    "D'autre part, nous avons testé 4 méthodes de calcul de distance entre deux mots. Afin de mieux pouvoir les comparer, nous avons normalisé toutes les distances entre 0 et 1 : 0 lorsque deux mots sont très proches, 1 lorsqu'ils sont très différents.\n",
    "\n",
    "La fonction `compare_methods` permet de visualiser pour une liste de mots-tests, les `n` mots les plus proches dans la base d'Agribalyse selon chacune des distances. Chaque distance est identifiée par un trigramme.\n",
    "\n",
    "La distance la plus efficace nous semble être la distance dite \"personnalisée\" `PER` que nous avons nous-mêmes implémentée."
   ]
  },
  {
   "cell_type": "code",
   "execution_count": 5,
   "metadata": {},
   "outputs": [
    {
     "name": "stdout",
     "output_type": "stream",
     "text": [
      "\n",
      "\n",
      "\n",
      "----- CHOCOLAT NOIR -----\n",
      "----- chocolat noir -----\n",
      "\n",
      "GPM\n",
      "                    name_prod         clean_name_prod  distance\n",
      "491           Chipolata, crue            chipolat cru  0.360000\n",
      "500   Chocolat au lait fourré  chocolat au lait fourr  0.371429\n",
      "492          Chipolata, cuite           chipolat cuit  0.384615\n",
      "536         Choucroute garnie          choucrout garn  0.407407\n",
      "505  Chocolat blanc, tablette   chocolat blanc tablet  0.411765\n",
      "\n",
      "\n",
      "FWZ\n",
      "                                             name_prod  ... distance\n",
      "512             Chocolat noir fourré praliné, tablette  ...      0.0\n",
      "513  Chocolat noir sans sucres ajoutés, avec édulco...  ...      0.0\n",
      "511       Chocolat noir fourrage confiseur à la menthe  ...      0.0\n",
      "510  Chocolat noir aux fruits secs (noisettes, aman...  ...      0.0\n",
      "509  Chocolat noir aux fruits (orange, framboise, p...  ...      0.0\n",
      "\n",
      "[5 rows x 3 columns]\n",
      "\n",
      "\n",
      "LEV\n",
      "                    name_prod         clean_name_prod  distance\n",
      "492          Chipolata, cuite           chipolat cuit  0.384615\n",
      "491           Chipolata, crue            chipolat cru  0.461538\n",
      "500   Chocolat au lait fourré  chocolat au lait fourr  0.500000\n",
      "505  Chocolat blanc, tablette   chocolat blanc tablet  0.523810\n",
      "343             Brocoli, cuit             brocol cuit  0.538462\n",
      "\n",
      "\n",
      "PER\n",
      "                                             name_prod  ...  distance\n",
      "512             Chocolat noir fourré praliné, tablette  ...  0.121212\n",
      "511       Chocolat noir fourrage confiseur à la menthe  ...  0.138095\n",
      "508  Chocolat noir à moins de 70% de cacao, à croqu...  ...  0.144681\n",
      "506  Chocolat noir à 40% de cacao minimum, à pâtiss...  ...  0.145833\n",
      "507  Chocolat noir à 70% cacao minimum, extra, dégu...  ...  0.146939\n",
      "\n",
      "[5 rows x 3 columns]\n",
      "\n",
      "\n",
      "\n",
      "\n",
      "\n",
      "----- SUCRE EN POUDRE -----\n",
      "----- sucr en poudr -----\n",
      "\n",
      "GPM\n",
      "             name_prod clean_name_prod  distance\n",
      "1537   Oeuf, en poudre   oeuf en poudr  0.230769\n",
      "704      Curry, poudre     curry poudr  0.333333\n",
      "394   Cannelle, poudre    cannel poudr  0.360000\n",
      "703    Curcuma, poudre    curcum poudr  0.360000\n",
      "2288        Sucre roux       sucr roux  0.363636\n",
      "\n",
      "\n",
      "FWZ\n",
      "                                             name_prod  ... distance\n",
      "361                   Cacao, non sucré, poudre soluble  ...     0.23\n",
      "1537                                   Oeuf, en poudre  ...     0.23\n",
      "1540             Oeuf, jaune (jaune d'oeuf), en poudre  ...     0.23\n",
      "1406  Meloukhia, feuilles de corète séchées, en poudre  ...     0.23\n",
      "1533             Oeuf, blanc (blanc d'oeuf), en poudre  ...     0.23\n",
      "\n",
      "[5 rows x 3 columns]\n",
      "\n",
      "\n",
      "LEV\n",
      "             name_prod clean_name_prod  distance\n",
      "1537   Oeuf, en poudre   oeuf en poudr  0.307692\n",
      "703    Curcuma, poudre    curcum poudr  0.384615\n",
      "704      Curry, poudre     curry poudr  0.384615\n",
      "394   Cannelle, poudre    cannel poudr  0.461538\n",
      "2288        Sucre roux       sucr roux  0.461538\n",
      "\n",
      "\n",
      "PER\n",
      "                             name_prod              clean_name_prod  distance\n",
      "2289                     Sucre vanillé                  sucr vanill  0.218182\n",
      "2287                       Sucre blanc                   sucr blanc  0.220000\n",
      "2288                        Sucre roux                    sucr roux  0.222222\n",
      "580      Cola, sucré, avec édulcorants        col sucr avec edulcor  0.694118\n",
      "361   Cacao, non sucré, poudre soluble  cacao non sucr poudr solubl  0.700000\n",
      "\n",
      "\n"
     ]
    }
   ],
   "source": [
    "from src.food2emissions import compare_methods\n",
    "\n",
    "compare_methods([\"chocolat noir\", \"sucre en poudre\"], products_data, n=5)"
   ]
  },
  {
   "cell_type": "markdown",
   "metadata": {},
   "source": [
    "Enfin, la fonction `compute_emissions` renvoie les données correspondant au produit de la base d'Agribalyse le plus proche d'un ingrédient donné."
   ]
  },
  {
   "cell_type": "code",
   "execution_count": 8,
   "metadata": {},
   "outputs": [
    {
     "data": {
      "text/html": [
       "<div>\n",
       "<style scoped>\n",
       "    .dataframe tbody tr th:only-of-type {\n",
       "        vertical-align: middle;\n",
       "    }\n",
       "\n",
       "    .dataframe tbody tr th {\n",
       "        vertical-align: top;\n",
       "    }\n",
       "\n",
       "    .dataframe thead th {\n",
       "        text-align: right;\n",
       "    }\n",
       "</style>\n",
       "<table border=\"1\" class=\"dataframe\">\n",
       "  <thead>\n",
       "    <tr style=\"text-align: right;\">\n",
       "      <th></th>\n",
       "      <th>name_prod</th>\n",
       "      <th>dqr</th>\n",
       "      <th>agriculture_co2</th>\n",
       "      <th>transformation_co2</th>\n",
       "      <th>packaging_co2</th>\n",
       "      <th>transport_co2</th>\n",
       "      <th>distribution_co2</th>\n",
       "      <th>consumption_co2</th>\n",
       "      <th>clean_name_prod</th>\n",
       "      <th>uncertainty</th>\n",
       "      <th>agribalyse_match</th>\n",
       "    </tr>\n",
       "  </thead>\n",
       "  <tbody>\n",
       "    <tr>\n",
       "      <th>512</th>\n",
       "      <td>chocolat noir</td>\n",
       "      <td>3.34</td>\n",
       "      <td>16.761333</td>\n",
       "      <td>1.274366</td>\n",
       "      <td>0.10292</td>\n",
       "      <td>0.411703</td>\n",
       "      <td>0.014105</td>\n",
       "      <td>0.0</td>\n",
       "      <td>chocolat noir fourr pralin tablet</td>\n",
       "      <td>0.121212</td>\n",
       "      <td>Chocolat noir fourré praliné, tablette</td>\n",
       "    </tr>\n",
       "  </tbody>\n",
       "</table>\n",
       "</div>"
      ],
      "text/plain": [
       "         name_prod   dqr  ...  uncertainty                        agribalyse_match\n",
       "512  chocolat noir  3.34  ...     0.121212  Chocolat noir fourré praliné, tablette\n",
       "\n",
       "[1 rows x 11 columns]"
      ]
     },
     "execution_count": 8,
     "metadata": {},
     "output_type": "execute_result"
    }
   ],
   "source": [
    "from src.food2emissions import compute_emissions\n",
    "\n",
    "compute_emissions(\"chocolat noir\", products_data).head()"
   ]
  },
  {
   "cell_type": "markdown",
   "metadata": {},
   "source": [
    "**Limites**\n",
    "\n",
    "Malgré l'utilisation d'une distance personnalisée, on observe toujours une incertitude au niveau du matching entre les ingrédients de la base d'Agribalyse et ceux de la recette Marmiton. Par exemple, pour l'ingrédient \"eau\", l'ingrédient de la base d'Agribalyse qui correspond le mieux est l'ingrédient \"eau de vie\" qui ne correspond pas exactement à ce qu'on attend :) Une piste d'amélioration serait potentiellement d'introduire de nouvelles distances, d'utiliser du NLP pour optimiser le matching, ou plus simplement de compléter la base d'Agribalyse."
   ]
  },
  {
   "cell_type": "markdown",
   "metadata": {},
   "source": [
    "## Etape 3: agrégation des données\n",
    "\n",
    "Cette étape consiste à agréger les différentes sources de données. Elle se déroule dans le fichier **`aggregate.py`** du dossier **`src`**. La fonction principale est `aggregate_data`.\n",
    "\n",
    "Cette fonction agrège 3 dataframes différents : `products_data`, `recipes` et `ingredients`.\n",
    "\n",
    "- `products_data` est le dataframe obtenu à l'import des données d'Agribalyse (voir étape 2).\n",
    "\n",
    "- `recipes` est le dataframe obtenu en convertissant le dictionnaire renvoyé par le scrapper en dataframe (voir étape 1).\n",
    "\n",
    "- `ingredients` permet d'améliorer l'estimation de l'empreinte carbone des ingrédients, nous en détaillons le principe dans le fichier **`README.md`** à la racine du répertoire."
   ]
  },
  {
   "cell_type": "code",
   "execution_count": 3,
   "metadata": {},
   "outputs": [
    {
     "name": "stdout",
     "output_type": "stream",
     "text": [
      "\n",
      "Processing ingredients...\n",
      "\n"
     ]
    },
    {
     "name": "stderr",
     "output_type": "stream",
     "text": [
      "100%|███████████████████████████████████████████████████████████████| 16/16 [00:15<00:00,  1.05it/s]\n"
     ]
    },
    {
     "data": {
      "text/html": [
       "<div>\n",
       "<style scoped>\n",
       "    .dataframe tbody tr th:only-of-type {\n",
       "        vertical-align: middle;\n",
       "    }\n",
       "\n",
       "    .dataframe tbody tr th {\n",
       "        vertical-align: top;\n",
       "    }\n",
       "\n",
       "    .dataframe thead th {\n",
       "        text-align: right;\n",
       "    }\n",
       "</style>\n",
       "<table border=\"1\" class=\"dataframe\">\n",
       "  <thead>\n",
       "    <tr style=\"text-align: right;\">\n",
       "      <th></th>\n",
       "      <th>recipes</th>\n",
       "      <th>ingredients</th>\n",
       "      <th>weights</th>\n",
       "      <th>nb_comments</th>\n",
       "      <th>mark</th>\n",
       "      <th>url</th>\n",
       "      <th>agribalyse_match</th>\n",
       "      <th>distance</th>\n",
       "      <th>dqr</th>\n",
       "      <th>emission_type</th>\n",
       "      <th>co2</th>\n",
       "    </tr>\n",
       "  </thead>\n",
       "  <tbody>\n",
       "    <tr>\n",
       "      <th>0</th>\n",
       "      <td>Gâteau au chocolat fondant rapide</td>\n",
       "      <td>chocolat pâtissier</td>\n",
       "      <td>0.303030</td>\n",
       "      <td>1439</td>\n",
       "      <td>4.7</td>\n",
       "      <td>https://www.marmiton.org/recettes/recette_gate...</td>\n",
       "      <td>Chocolat blanc, tablette</td>\n",
       "      <td>0.123810</td>\n",
       "      <td>2.29</td>\n",
       "      <td>agriculture_co2</td>\n",
       "      <td>18.453596</td>\n",
       "    </tr>\n",
       "    <tr>\n",
       "      <th>1</th>\n",
       "      <td>Gâteau au chocolat fondant rapide</td>\n",
       "      <td>farine</td>\n",
       "      <td>0.075758</td>\n",
       "      <td>1439</td>\n",
       "      <td>4.7</td>\n",
       "      <td>https://www.marmiton.org/recettes/recette_gate...</td>\n",
       "      <td>Farine d'orge</td>\n",
       "      <td>0.116667</td>\n",
       "      <td>2.43</td>\n",
       "      <td>agriculture_co2</td>\n",
       "      <td>0.558997</td>\n",
       "    </tr>\n",
       "    <tr>\n",
       "      <th>2</th>\n",
       "      <td>Gâteau au chocolat des écoliers</td>\n",
       "      <td>farine</td>\n",
       "      <td>0.109170</td>\n",
       "      <td>1241</td>\n",
       "      <td>4.7</td>\n",
       "      <td>https://www.marmiton.org/recettes/recette_gate...</td>\n",
       "      <td>Farine d'orge</td>\n",
       "      <td>0.116667</td>\n",
       "      <td>2.43</td>\n",
       "      <td>agriculture_co2</td>\n",
       "      <td>0.558997</td>\n",
       "    </tr>\n",
       "    <tr>\n",
       "      <th>3</th>\n",
       "      <td>Petits gâteaux tout chocolat</td>\n",
       "      <td>farine</td>\n",
       "      <td>0.114943</td>\n",
       "      <td>337</td>\n",
       "      <td>4.8</td>\n",
       "      <td>https://www.marmiton.org/recettes/recette_peti...</td>\n",
       "      <td>Farine d'orge</td>\n",
       "      <td>0.116667</td>\n",
       "      <td>2.43</td>\n",
       "      <td>agriculture_co2</td>\n",
       "      <td>0.558997</td>\n",
       "    </tr>\n",
       "    <tr>\n",
       "      <th>4</th>\n",
       "      <td>Gâteau au chocolat (seulement pour les enfants!)</td>\n",
       "      <td>farine</td>\n",
       "      <td>0.121520</td>\n",
       "      <td>339</td>\n",
       "      <td>4.7</td>\n",
       "      <td>https://www.marmiton.org/recettes/recette_gate...</td>\n",
       "      <td>Farine d'orge</td>\n",
       "      <td>0.116667</td>\n",
       "      <td>2.43</td>\n",
       "      <td>agriculture_co2</td>\n",
       "      <td>0.558997</td>\n",
       "    </tr>\n",
       "  </tbody>\n",
       "</table>\n",
       "</div>"
      ],
      "text/plain": [
       "                                            recipes         ingredients  \\\n",
       "0                 Gâteau au chocolat fondant rapide  chocolat pâtissier   \n",
       "1                 Gâteau au chocolat fondant rapide              farine   \n",
       "2                   Gâteau au chocolat des écoliers              farine   \n",
       "3                      Petits gâteaux tout chocolat              farine   \n",
       "4  Gâteau au chocolat (seulement pour les enfants!)              farine   \n",
       "\n",
       "    weights nb_comments  mark  \\\n",
       "0  0.303030        1439   4.7   \n",
       "1  0.075758        1439   4.7   \n",
       "2  0.109170        1241   4.7   \n",
       "3  0.114943         337   4.8   \n",
       "4  0.121520         339   4.7   \n",
       "\n",
       "                                                 url  \\\n",
       "0  https://www.marmiton.org/recettes/recette_gate...   \n",
       "1  https://www.marmiton.org/recettes/recette_gate...   \n",
       "2  https://www.marmiton.org/recettes/recette_gate...   \n",
       "3  https://www.marmiton.org/recettes/recette_peti...   \n",
       "4  https://www.marmiton.org/recettes/recette_gate...   \n",
       "\n",
       "           agribalyse_match  distance   dqr    emission_type        co2  \n",
       "0  Chocolat blanc, tablette  0.123810  2.29  agriculture_co2  18.453596  \n",
       "1             Farine d'orge  0.116667  2.43  agriculture_co2   0.558997  \n",
       "2             Farine d'orge  0.116667  2.43  agriculture_co2   0.558997  \n",
       "3             Farine d'orge  0.116667  2.43  agriculture_co2   0.558997  \n",
       "4             Farine d'orge  0.116667  2.43  agriculture_co2   0.558997  "
      ]
     },
     "execution_count": 3,
     "metadata": {},
     "output_type": "execute_result"
    }
   ],
   "source": [
    "from src.aggregate import aggregate_data\n",
    "\n",
    "aggregated_data = aggregate_data(output_scrapper)\n",
    "\n",
    "aggregated_data.head()"
   ]
  },
  {
   "cell_type": "markdown",
   "metadata": {},
   "source": [
    "## Étape 4 : affichage synthétisé des résultats\n",
    "\n",
    "L'objectif de cette dernière partie est de visualiser graphiquement l'empreinte carbone de tous les ingrédients des recettes correspondant au plat donné en entrée. Pour cela, nous créons une interface graphique grâce au module `plotly` constituée de deux figures :\n",
    "- la première figure représente l'empreinte carbone de chaque recette, avec les contributions carbone respectives de chaque ingrédient. En survolant les éléments avec la souris, on peut obtenir des renseignements complémentaires.\n",
    "- la deuxième figure représente l'empreinte carbone de chaque ingrédient utilisé par au moins une des recettes, et précise la contribution respective de chacun des six postes d'émissions fournis par la base d'Agribalyse : agriculture, transformation, emballage, transport, distribution et consommation.\n",
    "\n",
    "La fonction `preprocess_data` permet de mettre en forme les données."
   ]
  },
  {
   "cell_type": "code",
   "execution_count": 4,
   "metadata": {},
   "outputs": [
    {
     "data": {
      "text/html": [
       "<div>\n",
       "<style scoped>\n",
       "    .dataframe tbody tr th:only-of-type {\n",
       "        vertical-align: middle;\n",
       "    }\n",
       "\n",
       "    .dataframe tbody tr th {\n",
       "        vertical-align: top;\n",
       "    }\n",
       "\n",
       "    .dataframe thead th {\n",
       "        text-align: right;\n",
       "    }\n",
       "</style>\n",
       "<table border=\"1\" class=\"dataframe\">\n",
       "  <thead>\n",
       "    <tr style=\"text-align: right;\">\n",
       "      <th></th>\n",
       "      <th>Recette</th>\n",
       "      <th>Ingrédient</th>\n",
       "      <th>Masse (g)</th>\n",
       "      <th>Nombre de commentaires</th>\n",
       "      <th>Note de la recette</th>\n",
       "      <th>Lien</th>\n",
       "      <th>Meilleure correspondance Agribalyse</th>\n",
       "      <th>Fiabilité de la correspondance Agribalyse (%)</th>\n",
       "      <th>Qualité des données (1 : très fiable, 5 : peu fiable)</th>\n",
       "      <th>Type d'émissions de CO2</th>\n",
       "      <th>Émissions de CO2 (kgCO2eq)</th>\n",
       "    </tr>\n",
       "  </thead>\n",
       "  <tbody>\n",
       "    <tr>\n",
       "      <th>0</th>\n",
       "      <td>Gâteau au chocolat fondant rapide</td>\n",
       "      <td>Chocolat pâtissier</td>\n",
       "      <td>303.0</td>\n",
       "      <td>1439</td>\n",
       "      <td>4.7</td>\n",
       "      <td>https://www.marmiton.org/recettes/recette_gate...</td>\n",
       "      <td>Chocolat blanc, tablette</td>\n",
       "      <td>88.0</td>\n",
       "      <td>2.29</td>\n",
       "      <td>Agriculture</td>\n",
       "      <td>18.45</td>\n",
       "    </tr>\n",
       "    <tr>\n",
       "      <th>1</th>\n",
       "      <td>Gâteau au chocolat fondant rapide</td>\n",
       "      <td>Farine</td>\n",
       "      <td>76.0</td>\n",
       "      <td>1439</td>\n",
       "      <td>4.7</td>\n",
       "      <td>https://www.marmiton.org/recettes/recette_gate...</td>\n",
       "      <td>Farine d'orge</td>\n",
       "      <td>88.0</td>\n",
       "      <td>2.43</td>\n",
       "      <td>Agriculture</td>\n",
       "      <td>0.56</td>\n",
       "    </tr>\n",
       "    <tr>\n",
       "      <th>2</th>\n",
       "      <td>Gâteau au chocolat des écoliers</td>\n",
       "      <td>Farine</td>\n",
       "      <td>109.0</td>\n",
       "      <td>1241</td>\n",
       "      <td>4.7</td>\n",
       "      <td>https://www.marmiton.org/recettes/recette_gate...</td>\n",
       "      <td>Farine d'orge</td>\n",
       "      <td>88.0</td>\n",
       "      <td>2.43</td>\n",
       "      <td>Agriculture</td>\n",
       "      <td>0.56</td>\n",
       "    </tr>\n",
       "    <tr>\n",
       "      <th>3</th>\n",
       "      <td>Petits gâteaux tout chocolat</td>\n",
       "      <td>Farine</td>\n",
       "      <td>115.0</td>\n",
       "      <td>337</td>\n",
       "      <td>4.8</td>\n",
       "      <td>https://www.marmiton.org/recettes/recette_peti...</td>\n",
       "      <td>Farine d'orge</td>\n",
       "      <td>88.0</td>\n",
       "      <td>2.43</td>\n",
       "      <td>Agriculture</td>\n",
       "      <td>0.56</td>\n",
       "    </tr>\n",
       "    <tr>\n",
       "      <th>4</th>\n",
       "      <td>Gâteau au chocolat (seulement pour les enfants!)</td>\n",
       "      <td>Farine</td>\n",
       "      <td>122.0</td>\n",
       "      <td>339</td>\n",
       "      <td>4.7</td>\n",
       "      <td>https://www.marmiton.org/recettes/recette_gate...</td>\n",
       "      <td>Farine d'orge</td>\n",
       "      <td>88.0</td>\n",
       "      <td>2.43</td>\n",
       "      <td>Agriculture</td>\n",
       "      <td>0.56</td>\n",
       "    </tr>\n",
       "  </tbody>\n",
       "</table>\n",
       "</div>"
      ],
      "text/plain": [
       "                                            Recette          Ingrédient  \\\n",
       "0                 Gâteau au chocolat fondant rapide  Chocolat pâtissier   \n",
       "1                 Gâteau au chocolat fondant rapide              Farine   \n",
       "2                   Gâteau au chocolat des écoliers              Farine   \n",
       "3                      Petits gâteaux tout chocolat              Farine   \n",
       "4  Gâteau au chocolat (seulement pour les enfants!)              Farine   \n",
       "\n",
       "   Masse (g) Nombre de commentaires  Note de la recette  \\\n",
       "0      303.0                   1439                 4.7   \n",
       "1       76.0                   1439                 4.7   \n",
       "2      109.0                   1241                 4.7   \n",
       "3      115.0                    337                 4.8   \n",
       "4      122.0                    339                 4.7   \n",
       "\n",
       "                                                Lien  \\\n",
       "0  https://www.marmiton.org/recettes/recette_gate...   \n",
       "1  https://www.marmiton.org/recettes/recette_gate...   \n",
       "2  https://www.marmiton.org/recettes/recette_gate...   \n",
       "3  https://www.marmiton.org/recettes/recette_peti...   \n",
       "4  https://www.marmiton.org/recettes/recette_gate...   \n",
       "\n",
       "  Meilleure correspondance Agribalyse  \\\n",
       "0            Chocolat blanc, tablette   \n",
       "1                       Farine d'orge   \n",
       "2                       Farine d'orge   \n",
       "3                       Farine d'orge   \n",
       "4                       Farine d'orge   \n",
       "\n",
       "   Fiabilité de la correspondance Agribalyse (%)  \\\n",
       "0                                           88.0   \n",
       "1                                           88.0   \n",
       "2                                           88.0   \n",
       "3                                           88.0   \n",
       "4                                           88.0   \n",
       "\n",
       "   Qualité des données (1 : très fiable, 5 : peu fiable)  \\\n",
       "0                                               2.29       \n",
       "1                                               2.43       \n",
       "2                                               2.43       \n",
       "3                                               2.43       \n",
       "4                                               2.43       \n",
       "\n",
       "  Type d'émissions de CO2  Émissions de CO2 (kgCO2eq)  \n",
       "0             Agriculture                       18.45  \n",
       "1             Agriculture                        0.56  \n",
       "2             Agriculture                        0.56  \n",
       "3             Agriculture                        0.56  \n",
       "4             Agriculture                        0.56  "
      ]
     },
     "execution_count": 4,
     "metadata": {},
     "output_type": "execute_result"
    }
   ],
   "source": [
    "from src.interface import preprocess_data\n",
    "\n",
    "preprocessed_data = preprocess_data(aggregated_data)\n",
    "\n",
    "preprocessed_data.head()"
   ]
  },
  {
   "cell_type": "markdown",
   "metadata": {},
   "source": [
    "Les fonctions `compare_recipes` et `compare_ingredients` renvoient donc des objets `plotly express` correspondant aux deux figures citées précédemment."
   ]
  },
  {
   "cell_type": "code",
   "execution_count": 10,
   "metadata": {},
   "outputs": [
    {
     "data": {
      "application/vnd.plotly.v1+json": {
       "config": {
        "plotlyServerURL": "https://plot.ly"
       },
       "data": [
        {
         "alignmentgroup": "True",
         "customdata": [
          [
           44,
           "Beurre à 80% mg, salé",
           87,
           2.69,
           15.49
          ],
          [
           152,
           "Beurre à 80% mg, salé",
           87,
           2.69,
           15.49
          ],
          [
           115,
           "Beurre à 80% mg, salé",
           87,
           2.69,
           15.49
          ]
         ],
         "hovertemplate": "Ingrédient=Beurre<br>Recette=%{x}<br>Émissions de CO2 (kgCO2eq) par kg de plat=%{y}<br>Masse (g)=%{customdata[0]}<br>Meilleure correspondance Agribalyse=%{customdata[1]}<br>Fiabilité de la correspondance Agribalyse (%)=%{customdata[2]}<br>Qualité des données (1 : très fiable, 5 : peu fiable)=%{customdata[3]}<br>Émissions de CO2 (kgCO2eq) par kg d'ingrédient=%{customdata[4]}<extra></extra>",
         "legendgroup": "Beurre",
         "marker": {
          "color": "#636efa",
          "pattern": {
           "shape": ""
          }
         },
         "name": "Beurre",
         "offsetgroup": "Beurre",
         "orientation": "v",
         "showlegend": true,
         "textposition": "auto",
         "type": "bar",
         "x": [
          "<a href=\"https://www.marmiton.org/recettes/recette_gateau-au-chocolat-seulement-pour-les-enfants_41649.aspx\"><b>Gâteau au chocolat (seulement pour les enfants!)</b></a><br>339 commentaires • 4.7 sur 5",
          "<a href=\"https://www.marmiton.org/recettes/recette_gateau-au-chocolat-fondant-rapide_166352.aspx\"><b>Gâteau au chocolat fondant rapide</b></a><br>1439 commentaires • 4.7 sur 5",
          "<a href=\"https://www.marmiton.org/recettes/recette_petits-gateaux-tout-chocolat_36095.aspx\"><b>Petits gâteaux tout chocolat</b></a><br>337 commentaires • 4.8 sur 5"
         ],
         "xaxis": "x",
         "y": [
          0.68,
          2.35,
          1.78
         ],
         "yaxis": "y"
        },
        {
         "alignmentgroup": "True",
         "customdata": [
          [
           159,
           "Crème dessert au chocolat, appertisée",
           94,
           2.21,
           3.61
          ],
          [
           230,
           "Crème dessert au chocolat, appertisée",
           94,
           2.21,
           3.61
          ]
         ],
         "hovertemplate": "Ingrédient=Crème dessert au chocolat<br>Recette=%{x}<br>Émissions de CO2 (kgCO2eq) par kg de plat=%{y}<br>Masse (g)=%{customdata[0]}<br>Meilleure correspondance Agribalyse=%{customdata[1]}<br>Fiabilité de la correspondance Agribalyse (%)=%{customdata[2]}<br>Qualité des données (1 : très fiable, 5 : peu fiable)=%{customdata[3]}<br>Émissions de CO2 (kgCO2eq) par kg d'ingrédient=%{customdata[4]}<extra></extra>",
         "legendgroup": "Crème dessert au chocolat",
         "marker": {
          "color": "#EF553B",
          "pattern": {
           "shape": ""
          }
         },
         "name": "Crème dessert au chocolat",
         "offsetgroup": "Crème dessert au chocolat",
         "orientation": "v",
         "showlegend": true,
         "textposition": "auto",
         "type": "bar",
         "x": [
          "<a href=\"https://www.marmiton.org/recettes/recette_gateau-au-chocolat-seulement-pour-les-enfants_41649.aspx\"><b>Gâteau au chocolat (seulement pour les enfants!)</b></a><br>339 commentaires • 4.7 sur 5",
          "<a href=\"https://www.marmiton.org/recettes/recette_petits-gateaux-tout-chocolat_36095.aspx\"><b>Petits gâteaux tout chocolat</b></a><br>337 commentaires • 4.8 sur 5"
         ],
         "xaxis": "x",
         "y": [
          0.57,
          0.83
         ],
         "yaxis": "y"
        },
        {
         "alignmentgroup": "True",
         "customdata": [
          [
           122,
           "Farine d'orge",
           88,
           2.43,
           0.91
          ],
          [
           109,
           "Farine d'orge",
           88,
           2.43,
           0.91
          ],
          [
           76,
           "Farine d'orge",
           88,
           2.43,
           0.91
          ],
          [
           115,
           "Farine d'orge",
           88,
           2.43,
           0.91
          ]
         ],
         "hovertemplate": "Ingrédient=Farine<br>Recette=%{x}<br>Émissions de CO2 (kgCO2eq) par kg de plat=%{y}<br>Masse (g)=%{customdata[0]}<br>Meilleure correspondance Agribalyse=%{customdata[1]}<br>Fiabilité de la correspondance Agribalyse (%)=%{customdata[2]}<br>Qualité des données (1 : très fiable, 5 : peu fiable)=%{customdata[3]}<br>Émissions de CO2 (kgCO2eq) par kg d'ingrédient=%{customdata[4]}<extra></extra>",
         "legendgroup": "Farine",
         "marker": {
          "color": "#00cc96",
          "pattern": {
           "shape": ""
          }
         },
         "name": "Farine",
         "offsetgroup": "Farine",
         "orientation": "v",
         "showlegend": true,
         "textposition": "auto",
         "type": "bar",
         "x": [
          "<a href=\"https://www.marmiton.org/recettes/recette_gateau-au-chocolat-seulement-pour-les-enfants_41649.aspx\"><b>Gâteau au chocolat (seulement pour les enfants!)</b></a><br>339 commentaires • 4.7 sur 5",
          "<a href=\"https://www.marmiton.org/recettes/recette_gateau-au-chocolat-des-ecoliers_20654.aspx\"><b>Gâteau au chocolat des écoliers</b></a><br>1241 commentaires • 4.7 sur 5",
          "<a href=\"https://www.marmiton.org/recettes/recette_gateau-au-chocolat-fondant-rapide_166352.aspx\"><b>Gâteau au chocolat fondant rapide</b></a><br>1439 commentaires • 4.7 sur 5",
          "<a href=\"https://www.marmiton.org/recettes/recette_petits-gateaux-tout-chocolat_36095.aspx\"><b>Petits gâteaux tout chocolat</b></a><br>337 commentaires • 4.8 sur 5"
         ],
         "xaxis": "x",
         "y": [
          0.11,
          0.1,
          0.07,
          0.1
         ],
         "yaxis": "y"
        },
        {
         "alignmentgroup": "True",
         "customdata": [
          [
           5,
           "Levure chimique ou poudre à lever",
           88,
           2.85,
           5.9399999999999995
          ]
         ],
         "hovertemplate": "Ingrédient=Levure<br>Recette=%{x}<br>Émissions de CO2 (kgCO2eq) par kg de plat=%{y}<br>Masse (g)=%{customdata[0]}<br>Meilleure correspondance Agribalyse=%{customdata[1]}<br>Fiabilité de la correspondance Agribalyse (%)=%{customdata[2]}<br>Qualité des données (1 : très fiable, 5 : peu fiable)=%{customdata[3]}<br>Émissions de CO2 (kgCO2eq) par kg d'ingrédient=%{customdata[4]}<extra></extra>",
         "legendgroup": "Levure",
         "marker": {
          "color": "#ab63fa",
          "pattern": {
           "shape": ""
          }
         },
         "name": "Levure",
         "offsetgroup": "Levure",
         "orientation": "v",
         "showlegend": true,
         "textposition": "auto",
         "type": "bar",
         "x": [
          "<a href=\"https://www.marmiton.org/recettes/recette_gateau-au-chocolat-seulement-pour-les-enfants_41649.aspx\"><b>Gâteau au chocolat (seulement pour les enfants!)</b></a><br>339 commentaires • 4.7 sur 5"
         ],
         "xaxis": "x",
         "y": [
          0.03
         ],
         "yaxis": "y"
        },
        {
         "alignmentgroup": "True",
         "customdata": [
          [
           309,
           "Oeuf, cru",
           90,
           2.43,
           2.41
          ],
          [
           306,
           "Oeuf, cru",
           90,
           2.43,
           2.41
          ],
          [
           318,
           "Oeuf, cru",
           90,
           2.43,
           2.41
          ],
          [
           241,
           "Oeuf, cru",
           90,
           2.43,
           2.41
          ]
         ],
         "hovertemplate": "Ingrédient=Oeufs<br>Recette=%{x}<br>Émissions de CO2 (kgCO2eq) par kg de plat=%{y}<br>Masse (g)=%{customdata[0]}<br>Meilleure correspondance Agribalyse=%{customdata[1]}<br>Fiabilité de la correspondance Agribalyse (%)=%{customdata[2]}<br>Qualité des données (1 : très fiable, 5 : peu fiable)=%{customdata[3]}<br>Émissions de CO2 (kgCO2eq) par kg d'ingrédient=%{customdata[4]}<extra></extra>",
         "legendgroup": "Oeufs",
         "marker": {
          "color": "#FFA15A",
          "pattern": {
           "shape": ""
          }
         },
         "name": "Oeufs",
         "offsetgroup": "Oeufs",
         "orientation": "v",
         "showlegend": true,
         "textposition": "auto",
         "type": "bar",
         "x": [
          "<a href=\"https://www.marmiton.org/recettes/recette_gateau-au-chocolat-seulement-pour-les-enfants_41649.aspx\"><b>Gâteau au chocolat (seulement pour les enfants!)</b></a><br>339 commentaires • 4.7 sur 5",
          "<a href=\"https://www.marmiton.org/recettes/recette_gateau-au-chocolat-des-ecoliers_20654.aspx\"><b>Gâteau au chocolat des écoliers</b></a><br>1241 commentaires • 4.7 sur 5",
          "<a href=\"https://www.marmiton.org/recettes/recette_gateau-au-chocolat-fondant-rapide_166352.aspx\"><b>Gâteau au chocolat fondant rapide</b></a><br>1439 commentaires • 4.7 sur 5",
          "<a href=\"https://www.marmiton.org/recettes/recette_petits-gateaux-tout-chocolat_36095.aspx\"><b>Petits gâteaux tout chocolat</b></a><br>337 commentaires • 4.8 sur 5"
         ],
         "xaxis": "x",
         "y": [
          0.74,
          0.74,
          0.77,
          0.58
         ],
         "yaxis": "y"
        },
        {
         "alignmentgroup": "True",
         "customdata": [
          [
           351,
           "Sucre roux",
           89,
           3.02,
           1.05
          ],
          [
           115,
           "Sucre roux",
           89,
           3.02,
           1.05
          ]
         ],
         "hovertemplate": "Ingrédient=Sucre<br>Recette=%{x}<br>Émissions de CO2 (kgCO2eq) par kg de plat=%{y}<br>Masse (g)=%{customdata[0]}<br>Meilleure correspondance Agribalyse=%{customdata[1]}<br>Fiabilité de la correspondance Agribalyse (%)=%{customdata[2]}<br>Qualité des données (1 : très fiable, 5 : peu fiable)=%{customdata[3]}<br>Émissions de CO2 (kgCO2eq) par kg d'ingrédient=%{customdata[4]}<extra></extra>",
         "legendgroup": "Sucre",
         "marker": {
          "color": "#19d3f3",
          "pattern": {
           "shape": ""
          }
         },
         "name": "Sucre",
         "offsetgroup": "Sucre",
         "orientation": "v",
         "showlegend": true,
         "textposition": "auto",
         "type": "bar",
         "x": [
          "<a href=\"https://www.marmiton.org/recettes/recette_gateau-au-chocolat-seulement-pour-les-enfants_41649.aspx\"><b>Gâteau au chocolat (seulement pour les enfants!)</b></a><br>339 commentaires • 4.7 sur 5",
          "<a href=\"https://www.marmiton.org/recettes/recette_petits-gateaux-tout-chocolat_36095.aspx\"><b>Petits gâteaux tout chocolat</b></a><br>337 commentaires • 4.8 sur 5"
         ],
         "xaxis": "x",
         "y": [
          0.37,
          0.12
         ],
         "yaxis": "y"
        },
        {
         "alignmentgroup": "True",
         "customdata": [
          [
           10,
           "Sucre vanillé",
           100,
           2.88,
           0.75
          ]
         ],
         "hovertemplate": "Ingrédient=Sucre vanillé<br>Recette=%{x}<br>Émissions de CO2 (kgCO2eq) par kg de plat=%{y}<br>Masse (g)=%{customdata[0]}<br>Meilleure correspondance Agribalyse=%{customdata[1]}<br>Fiabilité de la correspondance Agribalyse (%)=%{customdata[2]}<br>Qualité des données (1 : très fiable, 5 : peu fiable)=%{customdata[3]}<br>Émissions de CO2 (kgCO2eq) par kg d'ingrédient=%{customdata[4]}<extra></extra>",
         "legendgroup": "Sucre vanillé",
         "marker": {
          "color": "#FF6692",
          "pattern": {
           "shape": ""
          }
         },
         "name": "Sucre vanillé",
         "offsetgroup": "Sucre vanillé",
         "orientation": "v",
         "showlegend": true,
         "textposition": "auto",
         "type": "bar",
         "x": [
          "<a href=\"https://www.marmiton.org/recettes/recette_gateau-au-chocolat-seulement-pour-les-enfants_41649.aspx\"><b>Gâteau au chocolat (seulement pour les enfants!)</b></a><br>339 commentaires • 4.7 sur 5"
         ],
         "xaxis": "x",
         "y": [
          0.01
         ],
         "yaxis": "y"
        },
        {
         "alignmentgroup": "True",
         "customdata": [
          [
           136,
           "Beurre à 80% mg, salé",
           87,
           2.69,
           15.49
          ]
         ],
         "hovertemplate": "Ingrédient=Beurre doux<br>Recette=%{x}<br>Émissions de CO2 (kgCO2eq) par kg de plat=%{y}<br>Masse (g)=%{customdata[0]}<br>Meilleure correspondance Agribalyse=%{customdata[1]}<br>Fiabilité de la correspondance Agribalyse (%)=%{customdata[2]}<br>Qualité des données (1 : très fiable, 5 : peu fiable)=%{customdata[3]}<br>Émissions de CO2 (kgCO2eq) par kg d'ingrédient=%{customdata[4]}<extra></extra>",
         "legendgroup": "Beurre doux",
         "marker": {
          "color": "#B6E880",
          "pattern": {
           "shape": ""
          }
         },
         "name": "Beurre doux",
         "offsetgroup": "Beurre doux",
         "orientation": "v",
         "showlegend": true,
         "textposition": "auto",
         "type": "bar",
         "x": [
          "<a href=\"https://www.marmiton.org/recettes/recette_gateau-au-chocolat-des-ecoliers_20654.aspx\"><b>Gâteau au chocolat des écoliers</b></a><br>1241 commentaires • 4.7 sur 5"
         ],
         "xaxis": "x",
         "y": [
          2.11
         ],
         "yaxis": "y"
        },
        {
         "alignmentgroup": "True",
         "customdata": [
          [
           218,
           "Chocolat noir fourré praliné, tablette",
           88,
           3.34,
           18.55
          ]
         ],
         "hovertemplate": "Ingrédient=Chocolat noir<br>Recette=%{x}<br>Émissions de CO2 (kgCO2eq) par kg de plat=%{y}<br>Masse (g)=%{customdata[0]}<br>Meilleure correspondance Agribalyse=%{customdata[1]}<br>Fiabilité de la correspondance Agribalyse (%)=%{customdata[2]}<br>Qualité des données (1 : très fiable, 5 : peu fiable)=%{customdata[3]}<br>Émissions de CO2 (kgCO2eq) par kg d'ingrédient=%{customdata[4]}<extra></extra>",
         "legendgroup": "Chocolat noir",
         "marker": {
          "color": "#FF97FF",
          "pattern": {
           "shape": ""
          }
         },
         "name": "Chocolat noir",
         "offsetgroup": "Chocolat noir",
         "orientation": "v",
         "showlegend": true,
         "textposition": "auto",
         "type": "bar",
         "x": [
          "<a href=\"https://www.marmiton.org/recettes/recette_gateau-au-chocolat-des-ecoliers_20654.aspx\"><b>Gâteau au chocolat des écoliers</b></a><br>1241 commentaires • 4.7 sur 5"
         ],
         "xaxis": "x",
         "y": [
          4.04
         ],
         "yaxis": "y"
        },
        {
         "alignmentgroup": "True",
         "customdata": [
          [
           12,
           "Levure chimique ou poudre à lever",
           89,
           2.85,
           5.9399999999999995
          ]
         ],
         "hovertemplate": "Ingrédient=Levure chimique<br>Recette=%{x}<br>Émissions de CO2 (kgCO2eq) par kg de plat=%{y}<br>Masse (g)=%{customdata[0]}<br>Meilleure correspondance Agribalyse=%{customdata[1]}<br>Fiabilité de la correspondance Agribalyse (%)=%{customdata[2]}<br>Qualité des données (1 : très fiable, 5 : peu fiable)=%{customdata[3]}<br>Émissions de CO2 (kgCO2eq) par kg d'ingrédient=%{customdata[4]}<extra></extra>",
         "legendgroup": "Levure chimique",
         "marker": {
          "color": "#FECB52",
          "pattern": {
           "shape": ""
          }
         },
         "name": "Levure chimique",
         "offsetgroup": "Levure chimique",
         "orientation": "v",
         "showlegend": true,
         "textposition": "auto",
         "type": "bar",
         "x": [
          "<a href=\"https://www.marmiton.org/recettes/recette_gateau-au-chocolat-des-ecoliers_20654.aspx\"><b>Gâteau au chocolat des écoliers</b></a><br>1241 commentaires • 4.7 sur 5"
         ],
         "xaxis": "x",
         "y": [
          0.07
         ],
         "yaxis": "y"
        },
        {
         "alignmentgroup": "True",
         "customdata": [
          [
           218,
           "Sucre roux",
           87,
           3.02,
           1.05
          ],
          [
           152,
           "Sucre roux",
           87,
           3.02,
           1.05
          ]
         ],
         "hovertemplate": "Ingrédient=Sucre en poudre<br>Recette=%{x}<br>Émissions de CO2 (kgCO2eq) par kg de plat=%{y}<br>Masse (g)=%{customdata[0]}<br>Meilleure correspondance Agribalyse=%{customdata[1]}<br>Fiabilité de la correspondance Agribalyse (%)=%{customdata[2]}<br>Qualité des données (1 : très fiable, 5 : peu fiable)=%{customdata[3]}<br>Émissions de CO2 (kgCO2eq) par kg d'ingrédient=%{customdata[4]}<extra></extra>",
         "legendgroup": "Sucre en poudre",
         "marker": {
          "color": "#636efa",
          "pattern": {
           "shape": ""
          }
         },
         "name": "Sucre en poudre",
         "offsetgroup": "Sucre en poudre",
         "orientation": "v",
         "showlegend": true,
         "textposition": "auto",
         "type": "bar",
         "x": [
          "<a href=\"https://www.marmiton.org/recettes/recette_gateau-au-chocolat-des-ecoliers_20654.aspx\"><b>Gâteau au chocolat des écoliers</b></a><br>1241 commentaires • 4.7 sur 5",
          "<a href=\"https://www.marmiton.org/recettes/recette_gateau-au-chocolat-fondant-rapide_166352.aspx\"><b>Gâteau au chocolat fondant rapide</b></a><br>1439 commentaires • 4.7 sur 5"
         ],
         "xaxis": "x",
         "y": [
          0.23,
          0.16
         ],
         "yaxis": "y"
        },
        {
         "alignmentgroup": "True",
         "customdata": [
          [
           303,
           "Chocolat blanc, tablette",
           88,
           2.29,
           19.23
          ]
         ],
         "hovertemplate": "Ingrédient=Chocolat pâtissier<br>Recette=%{x}<br>Émissions de CO2 (kgCO2eq) par kg de plat=%{y}<br>Masse (g)=%{customdata[0]}<br>Meilleure correspondance Agribalyse=%{customdata[1]}<br>Fiabilité de la correspondance Agribalyse (%)=%{customdata[2]}<br>Qualité des données (1 : très fiable, 5 : peu fiable)=%{customdata[3]}<br>Émissions de CO2 (kgCO2eq) par kg d'ingrédient=%{customdata[4]}<extra></extra>",
         "legendgroup": "Chocolat pâtissier",
         "marker": {
          "color": "#EF553B",
          "pattern": {
           "shape": ""
          }
         },
         "name": "Chocolat pâtissier",
         "offsetgroup": "Chocolat pâtissier",
         "orientation": "v",
         "showlegend": true,
         "textposition": "auto",
         "type": "bar",
         "x": [
          "<a href=\"https://www.marmiton.org/recettes/recette_gateau-au-chocolat-fondant-rapide_166352.aspx\"><b>Gâteau au chocolat fondant rapide</b></a><br>1439 commentaires • 4.7 sur 5"
         ],
         "xaxis": "x",
         "y": [
          5.83
         ],
         "yaxis": "y"
        },
        {
         "alignmentgroup": "True",
         "customdata": [
          [
           405,
           "Chocolat noir fourré praliné, tablette",
           88,
           3.34,
           18.55
          ]
         ],
         "hovertemplate": "Ingrédient=Chocolat<br>Recette=%{x}<br>Émissions de CO2 (kgCO2eq) par kg de plat=%{y}<br>Masse (g)=%{customdata[0]}<br>Meilleure correspondance Agribalyse=%{customdata[1]}<br>Fiabilité de la correspondance Agribalyse (%)=%{customdata[2]}<br>Qualité des données (1 : très fiable, 5 : peu fiable)=%{customdata[3]}<br>Émissions de CO2 (kgCO2eq) par kg d'ingrédient=%{customdata[4]}<extra></extra>",
         "legendgroup": "Chocolat",
         "marker": {
          "color": "#00cc96",
          "pattern": {
           "shape": ""
          }
         },
         "name": "Chocolat",
         "offsetgroup": "Chocolat",
         "orientation": "v",
         "showlegend": true,
         "textposition": "auto",
         "type": "bar",
         "x": [
          "<a href=\"https://www.marmiton.org/recettes/recette_gateau-chocolat-ultra-rapide-micro-ondes_20722.aspx\"><b>Gâteau chocolat ultra rapide (micro-ondes)</b></a><br>684 commentaires • 4.6 sur 5"
         ],
         "xaxis": "x",
         "y": [
          7.51
         ],
         "yaxis": "y"
        },
        {
         "alignmentgroup": "True",
         "customdata": [
          [
           255,
           "Crème dessert au chocolat, appertisée",
           78,
           2.21,
           3.61
          ]
         ],
         "hovertemplate": "Ingrédient=Crème fraîche<br>Recette=%{x}<br>Émissions de CO2 (kgCO2eq) par kg de plat=%{y}<br>Masse (g)=%{customdata[0]}<br>Meilleure correspondance Agribalyse=%{customdata[1]}<br>Fiabilité de la correspondance Agribalyse (%)=%{customdata[2]}<br>Qualité des données (1 : très fiable, 5 : peu fiable)=%{customdata[3]}<br>Émissions de CO2 (kgCO2eq) par kg d'ingrédient=%{customdata[4]}<extra></extra>",
         "legendgroup": "Crème fraîche",
         "marker": {
          "color": "#ab63fa",
          "pattern": {
           "shape": ""
          }
         },
         "name": "Crème fraîche",
         "offsetgroup": "Crème fraîche",
         "orientation": "v",
         "showlegend": true,
         "textposition": "auto",
         "type": "bar",
         "x": [
          "<a href=\"https://www.marmiton.org/recettes/recette_gateau-chocolat-ultra-rapide-micro-ondes_20722.aspx\"><b>Gâteau chocolat ultra rapide (micro-ondes)</b></a><br>684 commentaires • 4.6 sur 5"
         ],
         "xaxis": "x",
         "y": [
          0.92
         ],
         "yaxis": "y"
        },
        {
         "alignmentgroup": "True",
         "customdata": [
          [
           189,
           "Eau de vie",
           87,
           3.3,
           1.16
          ]
         ],
         "hovertemplate": "Ingrédient=Eau<br>Recette=%{x}<br>Émissions de CO2 (kgCO2eq) par kg de plat=%{y}<br>Masse (g)=%{customdata[0]}<br>Meilleure correspondance Agribalyse=%{customdata[1]}<br>Fiabilité de la correspondance Agribalyse (%)=%{customdata[2]}<br>Qualité des données (1 : très fiable, 5 : peu fiable)=%{customdata[3]}<br>Émissions de CO2 (kgCO2eq) par kg d'ingrédient=%{customdata[4]}<extra></extra>",
         "legendgroup": "Eau",
         "marker": {
          "color": "#FFA15A",
          "pattern": {
           "shape": ""
          }
         },
         "name": "Eau",
         "offsetgroup": "Eau",
         "orientation": "v",
         "showlegend": true,
         "textposition": "auto",
         "type": "bar",
         "x": [
          "<a href=\"https://www.marmiton.org/recettes/recette_gateau-chocolat-ultra-rapide-micro-ondes_20722.aspx\"><b>Gâteau chocolat ultra rapide (micro-ondes)</b></a><br>684 commentaires • 4.6 sur 5"
         ],
         "xaxis": "x",
         "y": [
          0.22
         ],
         "yaxis": "y"
        },
        {
         "alignmentgroup": "True",
         "customdata": [
          [
           150,
           "Sucre roux",
           89,
           3.02,
           1.05
          ]
         ],
         "hovertemplate": "Ingrédient=Sucre glace<br>Recette=%{x}<br>Émissions de CO2 (kgCO2eq) par kg de plat=%{y}<br>Masse (g)=%{customdata[0]}<br>Meilleure correspondance Agribalyse=%{customdata[1]}<br>Fiabilité de la correspondance Agribalyse (%)=%{customdata[2]}<br>Qualité des données (1 : très fiable, 5 : peu fiable)=%{customdata[3]}<br>Émissions de CO2 (kgCO2eq) par kg d'ingrédient=%{customdata[4]}<extra></extra>",
         "legendgroup": "Sucre glace",
         "marker": {
          "color": "#19d3f3",
          "pattern": {
           "shape": ""
          }
         },
         "name": "Sucre glace",
         "offsetgroup": "Sucre glace",
         "orientation": "v",
         "showlegend": true,
         "textposition": "auto",
         "type": "bar",
         "x": [
          "<a href=\"https://www.marmiton.org/recettes/recette_gateau-chocolat-ultra-rapide-micro-ondes_20722.aspx\"><b>Gâteau chocolat ultra rapide (micro-ondes)</b></a><br>684 commentaires • 4.6 sur 5"
         ],
         "xaxis": "x",
         "y": [
          0.16
         ],
         "yaxis": "y"
        },
        {
         "alignmentgroup": "True",
         "customdata": [
          [
           184,
           "Moule commune, crue",
           73,
           2.85,
           5.2299999999999995
          ]
         ],
         "hovertemplate": "Ingrédient=Moules à muffin ou des caissettes en papier<br>Recette=%{x}<br>Émissions de CO2 (kgCO2eq) par kg de plat=%{y}<br>Masse (g)=%{customdata[0]}<br>Meilleure correspondance Agribalyse=%{customdata[1]}<br>Fiabilité de la correspondance Agribalyse (%)=%{customdata[2]}<br>Qualité des données (1 : très fiable, 5 : peu fiable)=%{customdata[3]}<br>Émissions de CO2 (kgCO2eq) par kg d'ingrédient=%{customdata[4]}<extra></extra>",
         "legendgroup": "Moules à muffin ou des caissettes en papier",
         "marker": {
          "color": "#FF6692",
          "pattern": {
           "shape": ""
          }
         },
         "name": "Moules à muffin ou des caissettes en papier",
         "offsetgroup": "Moules à muffin ou des caissettes en papier",
         "orientation": "v",
         "showlegend": true,
         "textposition": "auto",
         "type": "bar",
         "x": [
          "<a href=\"https://www.marmiton.org/recettes/recette_petits-gateaux-tout-chocolat_36095.aspx\"><b>Petits gâteaux tout chocolat</b></a><br>337 commentaires • 4.8 sur 5"
         ],
         "xaxis": "x",
         "y": [
          0.96
         ],
         "yaxis": "y"
        }
       ],
       "layout": {
        "barmode": "relative",
        "legend": {
         "title": {
          "text": "Ingrédient"
         },
         "tracegroupgap": 0
        },
        "template": {
         "data": {
          "bar": [
           {
            "error_x": {
             "color": "#2a3f5f"
            },
            "error_y": {
             "color": "#2a3f5f"
            },
            "marker": {
             "line": {
              "color": "#E5ECF6",
              "width": 0.5
             },
             "pattern": {
              "fillmode": "overlay",
              "size": 10,
              "solidity": 0.2
             }
            },
            "type": "bar"
           }
          ],
          "barpolar": [
           {
            "marker": {
             "line": {
              "color": "#E5ECF6",
              "width": 0.5
             },
             "pattern": {
              "fillmode": "overlay",
              "size": 10,
              "solidity": 0.2
             }
            },
            "type": "barpolar"
           }
          ],
          "carpet": [
           {
            "aaxis": {
             "endlinecolor": "#2a3f5f",
             "gridcolor": "white",
             "linecolor": "white",
             "minorgridcolor": "white",
             "startlinecolor": "#2a3f5f"
            },
            "baxis": {
             "endlinecolor": "#2a3f5f",
             "gridcolor": "white",
             "linecolor": "white",
             "minorgridcolor": "white",
             "startlinecolor": "#2a3f5f"
            },
            "type": "carpet"
           }
          ],
          "choropleth": [
           {
            "colorbar": {
             "outlinewidth": 0,
             "ticks": ""
            },
            "type": "choropleth"
           }
          ],
          "contour": [
           {
            "colorbar": {
             "outlinewidth": 0,
             "ticks": ""
            },
            "colorscale": [
             [
              0,
              "#0d0887"
             ],
             [
              0.1111111111111111,
              "#46039f"
             ],
             [
              0.2222222222222222,
              "#7201a8"
             ],
             [
              0.3333333333333333,
              "#9c179e"
             ],
             [
              0.4444444444444444,
              "#bd3786"
             ],
             [
              0.5555555555555556,
              "#d8576b"
             ],
             [
              0.6666666666666666,
              "#ed7953"
             ],
             [
              0.7777777777777778,
              "#fb9f3a"
             ],
             [
              0.8888888888888888,
              "#fdca26"
             ],
             [
              1,
              "#f0f921"
             ]
            ],
            "type": "contour"
           }
          ],
          "contourcarpet": [
           {
            "colorbar": {
             "outlinewidth": 0,
             "ticks": ""
            },
            "type": "contourcarpet"
           }
          ],
          "heatmap": [
           {
            "colorbar": {
             "outlinewidth": 0,
             "ticks": ""
            },
            "colorscale": [
             [
              0,
              "#0d0887"
             ],
             [
              0.1111111111111111,
              "#46039f"
             ],
             [
              0.2222222222222222,
              "#7201a8"
             ],
             [
              0.3333333333333333,
              "#9c179e"
             ],
             [
              0.4444444444444444,
              "#bd3786"
             ],
             [
              0.5555555555555556,
              "#d8576b"
             ],
             [
              0.6666666666666666,
              "#ed7953"
             ],
             [
              0.7777777777777778,
              "#fb9f3a"
             ],
             [
              0.8888888888888888,
              "#fdca26"
             ],
             [
              1,
              "#f0f921"
             ]
            ],
            "type": "heatmap"
           }
          ],
          "heatmapgl": [
           {
            "colorbar": {
             "outlinewidth": 0,
             "ticks": ""
            },
            "colorscale": [
             [
              0,
              "#0d0887"
             ],
             [
              0.1111111111111111,
              "#46039f"
             ],
             [
              0.2222222222222222,
              "#7201a8"
             ],
             [
              0.3333333333333333,
              "#9c179e"
             ],
             [
              0.4444444444444444,
              "#bd3786"
             ],
             [
              0.5555555555555556,
              "#d8576b"
             ],
             [
              0.6666666666666666,
              "#ed7953"
             ],
             [
              0.7777777777777778,
              "#fb9f3a"
             ],
             [
              0.8888888888888888,
              "#fdca26"
             ],
             [
              1,
              "#f0f921"
             ]
            ],
            "type": "heatmapgl"
           }
          ],
          "histogram": [
           {
            "marker": {
             "pattern": {
              "fillmode": "overlay",
              "size": 10,
              "solidity": 0.2
             }
            },
            "type": "histogram"
           }
          ],
          "histogram2d": [
           {
            "colorbar": {
             "outlinewidth": 0,
             "ticks": ""
            },
            "colorscale": [
             [
              0,
              "#0d0887"
             ],
             [
              0.1111111111111111,
              "#46039f"
             ],
             [
              0.2222222222222222,
              "#7201a8"
             ],
             [
              0.3333333333333333,
              "#9c179e"
             ],
             [
              0.4444444444444444,
              "#bd3786"
             ],
             [
              0.5555555555555556,
              "#d8576b"
             ],
             [
              0.6666666666666666,
              "#ed7953"
             ],
             [
              0.7777777777777778,
              "#fb9f3a"
             ],
             [
              0.8888888888888888,
              "#fdca26"
             ],
             [
              1,
              "#f0f921"
             ]
            ],
            "type": "histogram2d"
           }
          ],
          "histogram2dcontour": [
           {
            "colorbar": {
             "outlinewidth": 0,
             "ticks": ""
            },
            "colorscale": [
             [
              0,
              "#0d0887"
             ],
             [
              0.1111111111111111,
              "#46039f"
             ],
             [
              0.2222222222222222,
              "#7201a8"
             ],
             [
              0.3333333333333333,
              "#9c179e"
             ],
             [
              0.4444444444444444,
              "#bd3786"
             ],
             [
              0.5555555555555556,
              "#d8576b"
             ],
             [
              0.6666666666666666,
              "#ed7953"
             ],
             [
              0.7777777777777778,
              "#fb9f3a"
             ],
             [
              0.8888888888888888,
              "#fdca26"
             ],
             [
              1,
              "#f0f921"
             ]
            ],
            "type": "histogram2dcontour"
           }
          ],
          "mesh3d": [
           {
            "colorbar": {
             "outlinewidth": 0,
             "ticks": ""
            },
            "type": "mesh3d"
           }
          ],
          "parcoords": [
           {
            "line": {
             "colorbar": {
              "outlinewidth": 0,
              "ticks": ""
             }
            },
            "type": "parcoords"
           }
          ],
          "pie": [
           {
            "automargin": true,
            "type": "pie"
           }
          ],
          "scatter": [
           {
            "marker": {
             "colorbar": {
              "outlinewidth": 0,
              "ticks": ""
             }
            },
            "type": "scatter"
           }
          ],
          "scatter3d": [
           {
            "line": {
             "colorbar": {
              "outlinewidth": 0,
              "ticks": ""
             }
            },
            "marker": {
             "colorbar": {
              "outlinewidth": 0,
              "ticks": ""
             }
            },
            "type": "scatter3d"
           }
          ],
          "scattercarpet": [
           {
            "marker": {
             "colorbar": {
              "outlinewidth": 0,
              "ticks": ""
             }
            },
            "type": "scattercarpet"
           }
          ],
          "scattergeo": [
           {
            "marker": {
             "colorbar": {
              "outlinewidth": 0,
              "ticks": ""
             }
            },
            "type": "scattergeo"
           }
          ],
          "scattergl": [
           {
            "marker": {
             "colorbar": {
              "outlinewidth": 0,
              "ticks": ""
             }
            },
            "type": "scattergl"
           }
          ],
          "scattermapbox": [
           {
            "marker": {
             "colorbar": {
              "outlinewidth": 0,
              "ticks": ""
             }
            },
            "type": "scattermapbox"
           }
          ],
          "scatterpolar": [
           {
            "marker": {
             "colorbar": {
              "outlinewidth": 0,
              "ticks": ""
             }
            },
            "type": "scatterpolar"
           }
          ],
          "scatterpolargl": [
           {
            "marker": {
             "colorbar": {
              "outlinewidth": 0,
              "ticks": ""
             }
            },
            "type": "scatterpolargl"
           }
          ],
          "scatterternary": [
           {
            "marker": {
             "colorbar": {
              "outlinewidth": 0,
              "ticks": ""
             }
            },
            "type": "scatterternary"
           }
          ],
          "surface": [
           {
            "colorbar": {
             "outlinewidth": 0,
             "ticks": ""
            },
            "colorscale": [
             [
              0,
              "#0d0887"
             ],
             [
              0.1111111111111111,
              "#46039f"
             ],
             [
              0.2222222222222222,
              "#7201a8"
             ],
             [
              0.3333333333333333,
              "#9c179e"
             ],
             [
              0.4444444444444444,
              "#bd3786"
             ],
             [
              0.5555555555555556,
              "#d8576b"
             ],
             [
              0.6666666666666666,
              "#ed7953"
             ],
             [
              0.7777777777777778,
              "#fb9f3a"
             ],
             [
              0.8888888888888888,
              "#fdca26"
             ],
             [
              1,
              "#f0f921"
             ]
            ],
            "type": "surface"
           }
          ],
          "table": [
           {
            "cells": {
             "fill": {
              "color": "#EBF0F8"
             },
             "line": {
              "color": "white"
             }
            },
            "header": {
             "fill": {
              "color": "#C8D4E3"
             },
             "line": {
              "color": "white"
             }
            },
            "type": "table"
           }
          ]
         },
         "layout": {
          "annotationdefaults": {
           "arrowcolor": "#2a3f5f",
           "arrowhead": 0,
           "arrowwidth": 1
          },
          "autotypenumbers": "strict",
          "coloraxis": {
           "colorbar": {
            "outlinewidth": 0,
            "ticks": ""
           }
          },
          "colorscale": {
           "diverging": [
            [
             0,
             "#8e0152"
            ],
            [
             0.1,
             "#c51b7d"
            ],
            [
             0.2,
             "#de77ae"
            ],
            [
             0.3,
             "#f1b6da"
            ],
            [
             0.4,
             "#fde0ef"
            ],
            [
             0.5,
             "#f7f7f7"
            ],
            [
             0.6,
             "#e6f5d0"
            ],
            [
             0.7,
             "#b8e186"
            ],
            [
             0.8,
             "#7fbc41"
            ],
            [
             0.9,
             "#4d9221"
            ],
            [
             1,
             "#276419"
            ]
           ],
           "sequential": [
            [
             0,
             "#0d0887"
            ],
            [
             0.1111111111111111,
             "#46039f"
            ],
            [
             0.2222222222222222,
             "#7201a8"
            ],
            [
             0.3333333333333333,
             "#9c179e"
            ],
            [
             0.4444444444444444,
             "#bd3786"
            ],
            [
             0.5555555555555556,
             "#d8576b"
            ],
            [
             0.6666666666666666,
             "#ed7953"
            ],
            [
             0.7777777777777778,
             "#fb9f3a"
            ],
            [
             0.8888888888888888,
             "#fdca26"
            ],
            [
             1,
             "#f0f921"
            ]
           ],
           "sequentialminus": [
            [
             0,
             "#0d0887"
            ],
            [
             0.1111111111111111,
             "#46039f"
            ],
            [
             0.2222222222222222,
             "#7201a8"
            ],
            [
             0.3333333333333333,
             "#9c179e"
            ],
            [
             0.4444444444444444,
             "#bd3786"
            ],
            [
             0.5555555555555556,
             "#d8576b"
            ],
            [
             0.6666666666666666,
             "#ed7953"
            ],
            [
             0.7777777777777778,
             "#fb9f3a"
            ],
            [
             0.8888888888888888,
             "#fdca26"
            ],
            [
             1,
             "#f0f921"
            ]
           ]
          },
          "colorway": [
           "#636efa",
           "#EF553B",
           "#00cc96",
           "#ab63fa",
           "#FFA15A",
           "#19d3f3",
           "#FF6692",
           "#B6E880",
           "#FF97FF",
           "#FECB52"
          ],
          "font": {
           "color": "#2a3f5f"
          },
          "geo": {
           "bgcolor": "white",
           "lakecolor": "white",
           "landcolor": "#E5ECF6",
           "showlakes": true,
           "showland": true,
           "subunitcolor": "white"
          },
          "hoverlabel": {
           "align": "left"
          },
          "hovermode": "closest",
          "mapbox": {
           "style": "light"
          },
          "paper_bgcolor": "white",
          "plot_bgcolor": "#E5ECF6",
          "polar": {
           "angularaxis": {
            "gridcolor": "white",
            "linecolor": "white",
            "ticks": ""
           },
           "bgcolor": "#E5ECF6",
           "radialaxis": {
            "gridcolor": "white",
            "linecolor": "white",
            "ticks": ""
           }
          },
          "scene": {
           "xaxis": {
            "backgroundcolor": "#E5ECF6",
            "gridcolor": "white",
            "gridwidth": 2,
            "linecolor": "white",
            "showbackground": true,
            "ticks": "",
            "zerolinecolor": "white"
           },
           "yaxis": {
            "backgroundcolor": "#E5ECF6",
            "gridcolor": "white",
            "gridwidth": 2,
            "linecolor": "white",
            "showbackground": true,
            "ticks": "",
            "zerolinecolor": "white"
           },
           "zaxis": {
            "backgroundcolor": "#E5ECF6",
            "gridcolor": "white",
            "gridwidth": 2,
            "linecolor": "white",
            "showbackground": true,
            "ticks": "",
            "zerolinecolor": "white"
           }
          },
          "shapedefaults": {
           "line": {
            "color": "#2a3f5f"
           }
          },
          "ternary": {
           "aaxis": {
            "gridcolor": "white",
            "linecolor": "white",
            "ticks": ""
           },
           "baxis": {
            "gridcolor": "white",
            "linecolor": "white",
            "ticks": ""
           },
           "bgcolor": "#E5ECF6",
           "caxis": {
            "gridcolor": "white",
            "linecolor": "white",
            "ticks": ""
           }
          },
          "title": {
           "x": 0.05
          },
          "xaxis": {
           "automargin": true,
           "gridcolor": "white",
           "linecolor": "white",
           "ticks": "",
           "title": {
            "standoff": 15
           },
           "zerolinecolor": "white",
           "zerolinewidth": 2
          },
          "yaxis": {
           "automargin": true,
           "gridcolor": "white",
           "linecolor": "white",
           "ticks": "",
           "title": {
            "standoff": 15
           },
           "zerolinecolor": "white",
           "zerolinewidth": 2
          }
         }
        },
        "title": {
         "text": "<b>Émissions de CO2 par recette (pour 1 kg)</b>"
        },
        "xaxis": {
         "anchor": "y",
         "categoryorder": "total descending",
         "domain": [
          0,
          1
         ],
         "title": {
          "text": "Recette"
         }
        },
        "yaxis": {
         "anchor": "x",
         "domain": [
          0,
          1
         ],
         "title": {
          "text": "Émissions de CO2 (kgCO2eq) par kg de plat"
         }
        }
       }
      }
     },
     "metadata": {},
     "output_type": "display_data"
    }
   ],
   "source": [
    "from src.interface import compare_recipes\n",
    "\n",
    "compare_recipes(preprocessed_data).show()"
   ]
  },
  {
   "cell_type": "code",
   "execution_count": 11,
   "metadata": {},
   "outputs": [
    {
     "data": {
      "application/vnd.plotly.v1+json": {
       "config": {
        "plotlyServerURL": "https://plot.ly"
       },
       "data": [
        {
         "alignmentgroup": "True",
         "customdata": [
          [
           "Chocolat blanc, tablette",
           88,
           2.29
          ],
          [
           "Farine d'orge",
           88,
           2.43
          ],
          [
           "Sucre roux",
           87,
           3.02
          ],
          [
           "Beurre à 80% mg, salé",
           87,
           2.69
          ],
          [
           "Oeuf, cru",
           90,
           2.43
          ],
          [
           "Chocolat noir fourré praliné, tablette",
           88,
           3.34
          ],
          [
           "Levure chimique ou poudre à lever",
           89,
           2.85
          ],
          [
           "Beurre à 80% mg, salé",
           87,
           2.69
          ],
          [
           "Sucre roux",
           89,
           3.02
          ],
          [
           "Crème dessert au chocolat, appertisée",
           94,
           2.21
          ],
          [
           "Moule commune, crue",
           73,
           2.85
          ],
          [
           "Levure chimique ou poudre à lever",
           88,
           2.85
          ],
          [
           "Sucre vanillé",
           100,
           2.88
          ],
          [
           "Eau de vie",
           87,
           3.3
          ],
          [
           "Chocolat noir fourré praliné, tablette",
           88,
           3.34
          ],
          [
           "Crème dessert au chocolat, appertisée",
           78,
           2.21
          ],
          [
           "Sucre roux",
           89,
           3.02
          ]
         ],
         "hovertemplate": "Type d'émissions de CO2=Agriculture<br>Ingrédient=%{x}<br>Émissions de CO2 (kgCO2eq)=%{y}<br>Meilleure correspondance Agribalyse=%{customdata[0]}<br>Fiabilité de la correspondance Agribalyse (%)=%{customdata[1]}<br>Qualité des données (1 : très fiable, 5 : peu fiable)=%{customdata[2]}<extra></extra>",
         "legendgroup": "Agriculture",
         "marker": {
          "color": "#636efa",
          "pattern": {
           "shape": ""
          }
         },
         "name": "Agriculture",
         "offsetgroup": "Agriculture",
         "orientation": "v",
         "showlegend": true,
         "textposition": "auto",
         "type": "bar",
         "x": [
          "Chocolat pâtissier",
          "Farine",
          "Sucre en poudre",
          "Beurre",
          "Oeufs",
          "Chocolat noir",
          "Levure chimique",
          "Beurre doux",
          "Sucre",
          "Crème dessert au chocolat",
          "Moules à muffin ou des caissettes en papier",
          "Levure",
          "Sucre vanillé",
          "Eau",
          "Chocolat",
          "Crème fraîche",
          "Sucre glace"
         ],
         "xaxis": "x",
         "y": [
          18.45,
          0.56,
          0.84,
          14.49,
          1.99,
          16.76,
          1.19,
          14.49,
          0.84,
          2.96,
          1.9,
          1.19,
          0.32,
          0,
          16.76,
          2.96,
          0.84
         ],
         "yaxis": "y"
        },
        {
         "alignmentgroup": "True",
         "customdata": [
          [
           "Chocolat blanc, tablette",
           88,
           2.29
          ],
          [
           "Farine d'orge",
           88,
           2.43
          ],
          [
           "Sucre roux",
           87,
           3.02
          ],
          [
           "Beurre à 80% mg, salé",
           87,
           2.69
          ],
          [
           "Oeuf, cru",
           90,
           2.43
          ],
          [
           "Chocolat noir fourré praliné, tablette",
           88,
           3.34
          ],
          [
           "Levure chimique ou poudre à lever",
           89,
           2.85
          ],
          [
           "Beurre à 80% mg, salé",
           87,
           2.69
          ],
          [
           "Sucre roux",
           89,
           3.02
          ],
          [
           "Crème dessert au chocolat, appertisée",
           94,
           2.21
          ],
          [
           "Moule commune, crue",
           73,
           2.85
          ],
          [
           "Levure chimique ou poudre à lever",
           88,
           2.85
          ],
          [
           "Sucre vanillé",
           100,
           2.88
          ],
          [
           "Eau de vie",
           87,
           3.3
          ],
          [
           "Chocolat noir fourré praliné, tablette",
           88,
           3.34
          ],
          [
           "Crème dessert au chocolat, appertisée",
           78,
           2.21
          ],
          [
           "Sucre roux",
           89,
           3.02
          ]
         ],
         "hovertemplate": "Type d'émissions de CO2=Transformation<br>Ingrédient=%{x}<br>Émissions de CO2 (kgCO2eq)=%{y}<br>Meilleure correspondance Agribalyse=%{customdata[0]}<br>Fiabilité de la correspondance Agribalyse (%)=%{customdata[1]}<br>Qualité des données (1 : très fiable, 5 : peu fiable)=%{customdata[2]}<extra></extra>",
         "legendgroup": "Transformation",
         "marker": {
          "color": "#EF553B",
          "pattern": {
           "shape": ""
          }
         },
         "name": "Transformation",
         "offsetgroup": "Transformation",
         "orientation": "v",
         "showlegend": true,
         "textposition": "auto",
         "type": "bar",
         "x": [
          "Chocolat pâtissier",
          "Farine",
          "Sucre en poudre",
          "Beurre",
          "Oeufs",
          "Chocolat noir",
          "Levure chimique",
          "Beurre doux",
          "Sucre",
          "Crème dessert au chocolat",
          "Moules à muffin ou des caissettes en papier",
          "Levure",
          "Sucre vanillé",
          "Eau",
          "Chocolat",
          "Crème fraîche",
          "Sucre glace"
         ],
         "xaxis": "x",
         "y": [
          0.38,
          0.01,
          0,
          0.58,
          0,
          1.27,
          4.47,
          0.58,
          0,
          0.19,
          0,
          4.47,
          0.2,
          0.47,
          1.27,
          0.19,
          0
         ],
         "yaxis": "y"
        },
        {
         "alignmentgroup": "True",
         "customdata": [
          [
           "Chocolat blanc, tablette",
           88,
           2.29
          ],
          [
           "Farine d'orge",
           88,
           2.43
          ],
          [
           "Sucre roux",
           87,
           3.02
          ],
          [
           "Beurre à 80% mg, salé",
           87,
           2.69
          ],
          [
           "Oeuf, cru",
           90,
           2.43
          ],
          [
           "Chocolat noir fourré praliné, tablette",
           88,
           3.34
          ],
          [
           "Levure chimique ou poudre à lever",
           89,
           2.85
          ],
          [
           "Beurre à 80% mg, salé",
           87,
           2.69
          ],
          [
           "Sucre roux",
           89,
           3.02
          ],
          [
           "Crème dessert au chocolat, appertisée",
           94,
           2.21
          ],
          [
           "Moule commune, crue",
           73,
           2.85
          ],
          [
           "Levure chimique ou poudre à lever",
           88,
           2.85
          ],
          [
           "Sucre vanillé",
           100,
           2.88
          ],
          [
           "Eau de vie",
           87,
           3.3
          ],
          [
           "Chocolat noir fourré praliné, tablette",
           88,
           3.34
          ],
          [
           "Crème dessert au chocolat, appertisée",
           78,
           2.21
          ],
          [
           "Sucre roux",
           89,
           3.02
          ]
         ],
         "hovertemplate": "Type d'émissions de CO2=Emballage<br>Ingrédient=%{x}<br>Émissions de CO2 (kgCO2eq)=%{y}<br>Meilleure correspondance Agribalyse=%{customdata[0]}<br>Fiabilité de la correspondance Agribalyse (%)=%{customdata[1]}<br>Qualité des données (1 : très fiable, 5 : peu fiable)=%{customdata[2]}<extra></extra>",
         "legendgroup": "Emballage",
         "marker": {
          "color": "#00cc96",
          "pattern": {
           "shape": ""
          }
         },
         "name": "Emballage",
         "offsetgroup": "Emballage",
         "orientation": "v",
         "showlegend": true,
         "textposition": "auto",
         "type": "bar",
         "x": [
          "Chocolat pâtissier",
          "Farine",
          "Sucre en poudre",
          "Beurre",
          "Oeufs",
          "Chocolat noir",
          "Levure chimique",
          "Beurre doux",
          "Sucre",
          "Crème dessert au chocolat",
          "Moules à muffin ou des caissettes en papier",
          "Levure",
          "Sucre vanillé",
          "Eau",
          "Chocolat",
          "Crème fraîche",
          "Sucre glace"
         ],
         "xaxis": "x",
         "y": [
          0.1,
          0.09,
          0.09,
          0.21,
          0.12,
          0.1,
          0.09,
          0.21,
          0.09,
          0.21,
          1.15,
          0.09,
          0.09,
          0.5,
          0.1,
          0.21,
          0.09
         ],
         "yaxis": "y"
        },
        {
         "alignmentgroup": "True",
         "customdata": [
          [
           "Chocolat blanc, tablette",
           88,
           2.29
          ],
          [
           "Farine d'orge",
           88,
           2.43
          ],
          [
           "Sucre roux",
           87,
           3.02
          ],
          [
           "Beurre à 80% mg, salé",
           87,
           2.69
          ],
          [
           "Oeuf, cru",
           90,
           2.43
          ],
          [
           "Chocolat noir fourré praliné, tablette",
           88,
           3.34
          ],
          [
           "Levure chimique ou poudre à lever",
           89,
           2.85
          ],
          [
           "Beurre à 80% mg, salé",
           87,
           2.69
          ],
          [
           "Sucre roux",
           89,
           3.02
          ],
          [
           "Crème dessert au chocolat, appertisée",
           94,
           2.21
          ],
          [
           "Moule commune, crue",
           73,
           2.85
          ],
          [
           "Levure chimique ou poudre à lever",
           88,
           2.85
          ],
          [
           "Sucre vanillé",
           100,
           2.88
          ],
          [
           "Eau de vie",
           87,
           3.3
          ],
          [
           "Chocolat noir fourré praliné, tablette",
           88,
           3.34
          ],
          [
           "Crème dessert au chocolat, appertisée",
           78,
           2.21
          ],
          [
           "Sucre roux",
           89,
           3.02
          ]
         ],
         "hovertemplate": "Type d'émissions de CO2=Transport<br>Ingrédient=%{x}<br>Émissions de CO2 (kgCO2eq)=%{y}<br>Meilleure correspondance Agribalyse=%{customdata[0]}<br>Fiabilité de la correspondance Agribalyse (%)=%{customdata[1]}<br>Qualité des données (1 : très fiable, 5 : peu fiable)=%{customdata[2]}<extra></extra>",
         "legendgroup": "Transport",
         "marker": {
          "color": "#ab63fa",
          "pattern": {
           "shape": ""
          }
         },
         "name": "Transport",
         "offsetgroup": "Transport",
         "orientation": "v",
         "showlegend": true,
         "textposition": "auto",
         "type": "bar",
         "x": [
          "Chocolat pâtissier",
          "Farine",
          "Sucre en poudre",
          "Beurre",
          "Oeufs",
          "Chocolat noir",
          "Levure chimique",
          "Beurre doux",
          "Sucre",
          "Crème dessert au chocolat",
          "Moules à muffin ou des caissettes en papier",
          "Levure",
          "Sucre vanillé",
          "Eau",
          "Chocolat",
          "Crème fraîche",
          "Sucre glace"
         ],
         "xaxis": "x",
         "y": [
          0.29,
          0.23,
          0.11,
          0.18,
          0.17,
          0.41,
          0.14,
          0.18,
          0.11,
          0.22,
          0.85,
          0.14,
          0.13,
          0.18,
          0.41,
          0.22,
          0.11
         ],
         "yaxis": "y"
        },
        {
         "alignmentgroup": "True",
         "customdata": [
          [
           "Chocolat blanc, tablette",
           88,
           2.29
          ],
          [
           "Farine d'orge",
           88,
           2.43
          ],
          [
           "Sucre roux",
           87,
           3.02
          ],
          [
           "Beurre à 80% mg, salé",
           87,
           2.69
          ],
          [
           "Oeuf, cru",
           90,
           2.43
          ],
          [
           "Chocolat noir fourré praliné, tablette",
           88,
           3.34
          ],
          [
           "Levure chimique ou poudre à lever",
           89,
           2.85
          ],
          [
           "Beurre à 80% mg, salé",
           87,
           2.69
          ],
          [
           "Sucre roux",
           89,
           3.02
          ],
          [
           "Crème dessert au chocolat, appertisée",
           94,
           2.21
          ],
          [
           "Moule commune, crue",
           73,
           2.85
          ],
          [
           "Levure chimique ou poudre à lever",
           88,
           2.85
          ],
          [
           "Sucre vanillé",
           100,
           2.88
          ],
          [
           "Eau de vie",
           87,
           3.3
          ],
          [
           "Chocolat noir fourré praliné, tablette",
           88,
           3.34
          ],
          [
           "Crème dessert au chocolat, appertisée",
           78,
           2.21
          ],
          [
           "Sucre roux",
           89,
           3.02
          ]
         ],
         "hovertemplate": "Type d'émissions de CO2=Distribution<br>Ingrédient=%{x}<br>Émissions de CO2 (kgCO2eq)=%{y}<br>Meilleure correspondance Agribalyse=%{customdata[0]}<br>Fiabilité de la correspondance Agribalyse (%)=%{customdata[1]}<br>Qualité des données (1 : très fiable, 5 : peu fiable)=%{customdata[2]}<extra></extra>",
         "legendgroup": "Distribution",
         "marker": {
          "color": "#FFA15A",
          "pattern": {
           "shape": ""
          }
         },
         "name": "Distribution",
         "offsetgroup": "Distribution",
         "orientation": "v",
         "showlegend": true,
         "textposition": "auto",
         "type": "bar",
         "x": [
          "Chocolat pâtissier",
          "Farine",
          "Sucre en poudre",
          "Beurre",
          "Oeufs",
          "Chocolat noir",
          "Levure chimique",
          "Beurre doux",
          "Sucre",
          "Crème dessert au chocolat",
          "Moules à muffin ou des caissettes en papier",
          "Levure",
          "Sucre vanillé",
          "Eau",
          "Chocolat",
          "Crème fraîche",
          "Sucre glace"
         ],
         "xaxis": "x",
         "y": [
          0.01,
          0.02,
          0.01,
          0.03,
          0.03,
          0.01,
          0.05,
          0.03,
          0.01,
          0.03,
          0.12,
          0.05,
          0.01,
          0.01,
          0.01,
          0.03,
          0.01
         ],
         "yaxis": "y"
        },
        {
         "alignmentgroup": "True",
         "customdata": [
          [
           "Chocolat blanc, tablette",
           88,
           2.29
          ],
          [
           "Farine d'orge",
           88,
           2.43
          ],
          [
           "Sucre roux",
           87,
           3.02
          ],
          [
           "Beurre à 80% mg, salé",
           87,
           2.69
          ],
          [
           "Oeuf, cru",
           90,
           2.43
          ],
          [
           "Chocolat noir fourré praliné, tablette",
           88,
           3.34
          ],
          [
           "Levure chimique ou poudre à lever",
           89,
           2.85
          ],
          [
           "Beurre à 80% mg, salé",
           87,
           2.69
          ],
          [
           "Sucre roux",
           89,
           3.02
          ],
          [
           "Crème dessert au chocolat, appertisée",
           94,
           2.21
          ],
          [
           "Moule commune, crue",
           73,
           2.85
          ],
          [
           "Levure chimique ou poudre à lever",
           88,
           2.85
          ],
          [
           "Sucre vanillé",
           100,
           2.88
          ],
          [
           "Eau de vie",
           87,
           3.3
          ],
          [
           "Chocolat noir fourré praliné, tablette",
           88,
           3.34
          ],
          [
           "Crème dessert au chocolat, appertisée",
           78,
           2.21
          ],
          [
           "Sucre roux",
           89,
           3.02
          ]
         ],
         "hovertemplate": "Type d'émissions de CO2=Consommation<br>Ingrédient=%{x}<br>Émissions de CO2 (kgCO2eq)=%{y}<br>Meilleure correspondance Agribalyse=%{customdata[0]}<br>Fiabilité de la correspondance Agribalyse (%)=%{customdata[1]}<br>Qualité des données (1 : très fiable, 5 : peu fiable)=%{customdata[2]}<extra></extra>",
         "legendgroup": "Consommation",
         "marker": {
          "color": "#19d3f3",
          "pattern": {
           "shape": ""
          }
         },
         "name": "Consommation",
         "offsetgroup": "Consommation",
         "orientation": "v",
         "showlegend": true,
         "textposition": "auto",
         "type": "bar",
         "x": [
          "Chocolat pâtissier",
          "Farine",
          "Sucre en poudre",
          "Beurre",
          "Oeufs",
          "Chocolat noir",
          "Levure chimique",
          "Beurre doux",
          "Sucre",
          "Crème dessert au chocolat",
          "Moules à muffin ou des caissettes en papier",
          "Levure",
          "Sucre vanillé",
          "Eau",
          "Chocolat",
          "Crème fraîche",
          "Sucre glace"
         ],
         "xaxis": "x",
         "y": [
          0,
          0,
          0,
          0,
          0.1,
          0,
          0,
          0,
          0,
          0,
          1.21,
          0,
          0,
          0,
          0,
          0,
          0
         ],
         "yaxis": "y"
        }
       ],
       "layout": {
        "barmode": "relative",
        "legend": {
         "title": {
          "text": "Type d'émissions de CO2"
         },
         "tracegroupgap": 0
        },
        "template": {
         "data": {
          "bar": [
           {
            "error_x": {
             "color": "#2a3f5f"
            },
            "error_y": {
             "color": "#2a3f5f"
            },
            "marker": {
             "line": {
              "color": "#E5ECF6",
              "width": 0.5
             },
             "pattern": {
              "fillmode": "overlay",
              "size": 10,
              "solidity": 0.2
             }
            },
            "type": "bar"
           }
          ],
          "barpolar": [
           {
            "marker": {
             "line": {
              "color": "#E5ECF6",
              "width": 0.5
             },
             "pattern": {
              "fillmode": "overlay",
              "size": 10,
              "solidity": 0.2
             }
            },
            "type": "barpolar"
           }
          ],
          "carpet": [
           {
            "aaxis": {
             "endlinecolor": "#2a3f5f",
             "gridcolor": "white",
             "linecolor": "white",
             "minorgridcolor": "white",
             "startlinecolor": "#2a3f5f"
            },
            "baxis": {
             "endlinecolor": "#2a3f5f",
             "gridcolor": "white",
             "linecolor": "white",
             "minorgridcolor": "white",
             "startlinecolor": "#2a3f5f"
            },
            "type": "carpet"
           }
          ],
          "choropleth": [
           {
            "colorbar": {
             "outlinewidth": 0,
             "ticks": ""
            },
            "type": "choropleth"
           }
          ],
          "contour": [
           {
            "colorbar": {
             "outlinewidth": 0,
             "ticks": ""
            },
            "colorscale": [
             [
              0,
              "#0d0887"
             ],
             [
              0.1111111111111111,
              "#46039f"
             ],
             [
              0.2222222222222222,
              "#7201a8"
             ],
             [
              0.3333333333333333,
              "#9c179e"
             ],
             [
              0.4444444444444444,
              "#bd3786"
             ],
             [
              0.5555555555555556,
              "#d8576b"
             ],
             [
              0.6666666666666666,
              "#ed7953"
             ],
             [
              0.7777777777777778,
              "#fb9f3a"
             ],
             [
              0.8888888888888888,
              "#fdca26"
             ],
             [
              1,
              "#f0f921"
             ]
            ],
            "type": "contour"
           }
          ],
          "contourcarpet": [
           {
            "colorbar": {
             "outlinewidth": 0,
             "ticks": ""
            },
            "type": "contourcarpet"
           }
          ],
          "heatmap": [
           {
            "colorbar": {
             "outlinewidth": 0,
             "ticks": ""
            },
            "colorscale": [
             [
              0,
              "#0d0887"
             ],
             [
              0.1111111111111111,
              "#46039f"
             ],
             [
              0.2222222222222222,
              "#7201a8"
             ],
             [
              0.3333333333333333,
              "#9c179e"
             ],
             [
              0.4444444444444444,
              "#bd3786"
             ],
             [
              0.5555555555555556,
              "#d8576b"
             ],
             [
              0.6666666666666666,
              "#ed7953"
             ],
             [
              0.7777777777777778,
              "#fb9f3a"
             ],
             [
              0.8888888888888888,
              "#fdca26"
             ],
             [
              1,
              "#f0f921"
             ]
            ],
            "type": "heatmap"
           }
          ],
          "heatmapgl": [
           {
            "colorbar": {
             "outlinewidth": 0,
             "ticks": ""
            },
            "colorscale": [
             [
              0,
              "#0d0887"
             ],
             [
              0.1111111111111111,
              "#46039f"
             ],
             [
              0.2222222222222222,
              "#7201a8"
             ],
             [
              0.3333333333333333,
              "#9c179e"
             ],
             [
              0.4444444444444444,
              "#bd3786"
             ],
             [
              0.5555555555555556,
              "#d8576b"
             ],
             [
              0.6666666666666666,
              "#ed7953"
             ],
             [
              0.7777777777777778,
              "#fb9f3a"
             ],
             [
              0.8888888888888888,
              "#fdca26"
             ],
             [
              1,
              "#f0f921"
             ]
            ],
            "type": "heatmapgl"
           }
          ],
          "histogram": [
           {
            "marker": {
             "pattern": {
              "fillmode": "overlay",
              "size": 10,
              "solidity": 0.2
             }
            },
            "type": "histogram"
           }
          ],
          "histogram2d": [
           {
            "colorbar": {
             "outlinewidth": 0,
             "ticks": ""
            },
            "colorscale": [
             [
              0,
              "#0d0887"
             ],
             [
              0.1111111111111111,
              "#46039f"
             ],
             [
              0.2222222222222222,
              "#7201a8"
             ],
             [
              0.3333333333333333,
              "#9c179e"
             ],
             [
              0.4444444444444444,
              "#bd3786"
             ],
             [
              0.5555555555555556,
              "#d8576b"
             ],
             [
              0.6666666666666666,
              "#ed7953"
             ],
             [
              0.7777777777777778,
              "#fb9f3a"
             ],
             [
              0.8888888888888888,
              "#fdca26"
             ],
             [
              1,
              "#f0f921"
             ]
            ],
            "type": "histogram2d"
           }
          ],
          "histogram2dcontour": [
           {
            "colorbar": {
             "outlinewidth": 0,
             "ticks": ""
            },
            "colorscale": [
             [
              0,
              "#0d0887"
             ],
             [
              0.1111111111111111,
              "#46039f"
             ],
             [
              0.2222222222222222,
              "#7201a8"
             ],
             [
              0.3333333333333333,
              "#9c179e"
             ],
             [
              0.4444444444444444,
              "#bd3786"
             ],
             [
              0.5555555555555556,
              "#d8576b"
             ],
             [
              0.6666666666666666,
              "#ed7953"
             ],
             [
              0.7777777777777778,
              "#fb9f3a"
             ],
             [
              0.8888888888888888,
              "#fdca26"
             ],
             [
              1,
              "#f0f921"
             ]
            ],
            "type": "histogram2dcontour"
           }
          ],
          "mesh3d": [
           {
            "colorbar": {
             "outlinewidth": 0,
             "ticks": ""
            },
            "type": "mesh3d"
           }
          ],
          "parcoords": [
           {
            "line": {
             "colorbar": {
              "outlinewidth": 0,
              "ticks": ""
             }
            },
            "type": "parcoords"
           }
          ],
          "pie": [
           {
            "automargin": true,
            "type": "pie"
           }
          ],
          "scatter": [
           {
            "marker": {
             "colorbar": {
              "outlinewidth": 0,
              "ticks": ""
             }
            },
            "type": "scatter"
           }
          ],
          "scatter3d": [
           {
            "line": {
             "colorbar": {
              "outlinewidth": 0,
              "ticks": ""
             }
            },
            "marker": {
             "colorbar": {
              "outlinewidth": 0,
              "ticks": ""
             }
            },
            "type": "scatter3d"
           }
          ],
          "scattercarpet": [
           {
            "marker": {
             "colorbar": {
              "outlinewidth": 0,
              "ticks": ""
             }
            },
            "type": "scattercarpet"
           }
          ],
          "scattergeo": [
           {
            "marker": {
             "colorbar": {
              "outlinewidth": 0,
              "ticks": ""
             }
            },
            "type": "scattergeo"
           }
          ],
          "scattergl": [
           {
            "marker": {
             "colorbar": {
              "outlinewidth": 0,
              "ticks": ""
             }
            },
            "type": "scattergl"
           }
          ],
          "scattermapbox": [
           {
            "marker": {
             "colorbar": {
              "outlinewidth": 0,
              "ticks": ""
             }
            },
            "type": "scattermapbox"
           }
          ],
          "scatterpolar": [
           {
            "marker": {
             "colorbar": {
              "outlinewidth": 0,
              "ticks": ""
             }
            },
            "type": "scatterpolar"
           }
          ],
          "scatterpolargl": [
           {
            "marker": {
             "colorbar": {
              "outlinewidth": 0,
              "ticks": ""
             }
            },
            "type": "scatterpolargl"
           }
          ],
          "scatterternary": [
           {
            "marker": {
             "colorbar": {
              "outlinewidth": 0,
              "ticks": ""
             }
            },
            "type": "scatterternary"
           }
          ],
          "surface": [
           {
            "colorbar": {
             "outlinewidth": 0,
             "ticks": ""
            },
            "colorscale": [
             [
              0,
              "#0d0887"
             ],
             [
              0.1111111111111111,
              "#46039f"
             ],
             [
              0.2222222222222222,
              "#7201a8"
             ],
             [
              0.3333333333333333,
              "#9c179e"
             ],
             [
              0.4444444444444444,
              "#bd3786"
             ],
             [
              0.5555555555555556,
              "#d8576b"
             ],
             [
              0.6666666666666666,
              "#ed7953"
             ],
             [
              0.7777777777777778,
              "#fb9f3a"
             ],
             [
              0.8888888888888888,
              "#fdca26"
             ],
             [
              1,
              "#f0f921"
             ]
            ],
            "type": "surface"
           }
          ],
          "table": [
           {
            "cells": {
             "fill": {
              "color": "#EBF0F8"
             },
             "line": {
              "color": "white"
             }
            },
            "header": {
             "fill": {
              "color": "#C8D4E3"
             },
             "line": {
              "color": "white"
             }
            },
            "type": "table"
           }
          ]
         },
         "layout": {
          "annotationdefaults": {
           "arrowcolor": "#2a3f5f",
           "arrowhead": 0,
           "arrowwidth": 1
          },
          "autotypenumbers": "strict",
          "coloraxis": {
           "colorbar": {
            "outlinewidth": 0,
            "ticks": ""
           }
          },
          "colorscale": {
           "diverging": [
            [
             0,
             "#8e0152"
            ],
            [
             0.1,
             "#c51b7d"
            ],
            [
             0.2,
             "#de77ae"
            ],
            [
             0.3,
             "#f1b6da"
            ],
            [
             0.4,
             "#fde0ef"
            ],
            [
             0.5,
             "#f7f7f7"
            ],
            [
             0.6,
             "#e6f5d0"
            ],
            [
             0.7,
             "#b8e186"
            ],
            [
             0.8,
             "#7fbc41"
            ],
            [
             0.9,
             "#4d9221"
            ],
            [
             1,
             "#276419"
            ]
           ],
           "sequential": [
            [
             0,
             "#0d0887"
            ],
            [
             0.1111111111111111,
             "#46039f"
            ],
            [
             0.2222222222222222,
             "#7201a8"
            ],
            [
             0.3333333333333333,
             "#9c179e"
            ],
            [
             0.4444444444444444,
             "#bd3786"
            ],
            [
             0.5555555555555556,
             "#d8576b"
            ],
            [
             0.6666666666666666,
             "#ed7953"
            ],
            [
             0.7777777777777778,
             "#fb9f3a"
            ],
            [
             0.8888888888888888,
             "#fdca26"
            ],
            [
             1,
             "#f0f921"
            ]
           ],
           "sequentialminus": [
            [
             0,
             "#0d0887"
            ],
            [
             0.1111111111111111,
             "#46039f"
            ],
            [
             0.2222222222222222,
             "#7201a8"
            ],
            [
             0.3333333333333333,
             "#9c179e"
            ],
            [
             0.4444444444444444,
             "#bd3786"
            ],
            [
             0.5555555555555556,
             "#d8576b"
            ],
            [
             0.6666666666666666,
             "#ed7953"
            ],
            [
             0.7777777777777778,
             "#fb9f3a"
            ],
            [
             0.8888888888888888,
             "#fdca26"
            ],
            [
             1,
             "#f0f921"
            ]
           ]
          },
          "colorway": [
           "#636efa",
           "#EF553B",
           "#00cc96",
           "#ab63fa",
           "#FFA15A",
           "#19d3f3",
           "#FF6692",
           "#B6E880",
           "#FF97FF",
           "#FECB52"
          ],
          "font": {
           "color": "#2a3f5f"
          },
          "geo": {
           "bgcolor": "white",
           "lakecolor": "white",
           "landcolor": "#E5ECF6",
           "showlakes": true,
           "showland": true,
           "subunitcolor": "white"
          },
          "hoverlabel": {
           "align": "left"
          },
          "hovermode": "closest",
          "mapbox": {
           "style": "light"
          },
          "paper_bgcolor": "white",
          "plot_bgcolor": "#E5ECF6",
          "polar": {
           "angularaxis": {
            "gridcolor": "white",
            "linecolor": "white",
            "ticks": ""
           },
           "bgcolor": "#E5ECF6",
           "radialaxis": {
            "gridcolor": "white",
            "linecolor": "white",
            "ticks": ""
           }
          },
          "scene": {
           "xaxis": {
            "backgroundcolor": "#E5ECF6",
            "gridcolor": "white",
            "gridwidth": 2,
            "linecolor": "white",
            "showbackground": true,
            "ticks": "",
            "zerolinecolor": "white"
           },
           "yaxis": {
            "backgroundcolor": "#E5ECF6",
            "gridcolor": "white",
            "gridwidth": 2,
            "linecolor": "white",
            "showbackground": true,
            "ticks": "",
            "zerolinecolor": "white"
           },
           "zaxis": {
            "backgroundcolor": "#E5ECF6",
            "gridcolor": "white",
            "gridwidth": 2,
            "linecolor": "white",
            "showbackground": true,
            "ticks": "",
            "zerolinecolor": "white"
           }
          },
          "shapedefaults": {
           "line": {
            "color": "#2a3f5f"
           }
          },
          "ternary": {
           "aaxis": {
            "gridcolor": "white",
            "linecolor": "white",
            "ticks": ""
           },
           "baxis": {
            "gridcolor": "white",
            "linecolor": "white",
            "ticks": ""
           },
           "bgcolor": "#E5ECF6",
           "caxis": {
            "gridcolor": "white",
            "linecolor": "white",
            "ticks": ""
           }
          },
          "title": {
           "x": 0.05
          },
          "xaxis": {
           "automargin": true,
           "gridcolor": "white",
           "linecolor": "white",
           "ticks": "",
           "title": {
            "standoff": 15
           },
           "zerolinecolor": "white",
           "zerolinewidth": 2
          },
          "yaxis": {
           "automargin": true,
           "gridcolor": "white",
           "linecolor": "white",
           "ticks": "",
           "title": {
            "standoff": 15
           },
           "zerolinecolor": "white",
           "zerolinewidth": 2
          }
         }
        },
        "title": {
         "text": "<b>Émissions de CO2 par ingrédient (pour 1 kg)</b>"
        },
        "xaxis": {
         "anchor": "y",
         "categoryorder": "total descending",
         "domain": [
          0,
          1
         ],
         "title": {
          "text": "Ingrédient"
         }
        },
        "yaxis": {
         "anchor": "x",
         "domain": [
          0,
          1
         ],
         "title": {
          "text": "Émissions de CO2 (kgCO2eq)"
         }
        }
       }
      }
     },
     "metadata": {},
     "output_type": "display_data"
    }
   ],
   "source": [
    "from src.interface import compare_ingredients\n",
    "\n",
    "compare_ingredients(preprocessed_data).show()"
   ]
  },
  {
   "cell_type": "markdown",
   "metadata": {},
   "source": [
    "La fonction `interface` permet de combiner ces deux figures sur une même page html, automatiquement générée dans le dossier **`data`** sous le nom de **`interface.html`**. Il est possible d'ouvrir ce fichier avec n'importe quel navigateur."
   ]
  },
  {
   "cell_type": "code",
   "execution_count": 9,
   "metadata": {},
   "outputs": [
    {
     "name": "stdout",
     "output_type": "stream",
     "text": [
      "\n",
      "    ###################################################################\n",
      "    ### L'interface a été générée avec succès : data/interface.html ###\n",
      "    ###################################################################\n",
      "    \n"
     ]
    }
   ],
   "source": [
    "from src.interface import interface\n",
    "\n",
    "interface(preprocessed_data)"
   ]
  }
 ],
 "metadata": {
  "interpreter": {
   "hash": "f113e628014bf6a2984c3101754a844ed4652f273ede0a6831184fe954a35f83"
  },
  "kernelspec": {
   "display_name": "Python 3.7.1 64-bit ('base': conda)",
   "language": "python",
   "name": "python3"
  },
  "language_info": {
   "codemirror_mode": {
    "name": "ipython",
    "version": 3
   },
   "file_extension": ".py",
   "mimetype": "text/x-python",
   "name": "python",
   "nbconvert_exporter": "python",
   "pygments_lexer": "ipython3",
   "version": "3.8.10"
  },
  "orig_nbformat": 4
 },
 "nbformat": 4,
 "nbformat_minor": 2
}
